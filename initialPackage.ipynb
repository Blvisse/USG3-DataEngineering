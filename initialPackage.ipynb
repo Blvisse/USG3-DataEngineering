{
 "cells": [
  {
   "cell_type": "code",
   "execution_count": 1,
   "id": "9d26ae08-9768-4cba-80f9-62d125d7a210",
   "metadata": {},
   "outputs": [],
   "source": [
    "import pdal\n",
    "import json\n"
   ]
  },
  {
   "cell_type": "code",
   "execution_count": null,
   "id": "ef0a9b8d-ce13-47fa-9a64-437714392f2b",
   "metadata": {},
   "outputs": [],
   "source": [
    "PUBLIC_DATA_PATH=\"\""
   ]
  }
 ],
 "metadata": {
  "kernelspec": {
   "display_name": "Python 3 (ipykernel)",
   "language": "python",
   "name": "python3"
  },
  "language_info": {
   "codemirror_mode": {
    "name": "ipython",
    "version": 3
   },
   "file_extension": ".py",
   "mimetype": "text/x-python",
   "name": "python",
   "nbconvert_exporter": "python",
   "pygments_lexer": "ipython3",
   "version": "3.9.5"
  }
 },
 "nbformat": 4,
 "nbformat_minor": 5
}
