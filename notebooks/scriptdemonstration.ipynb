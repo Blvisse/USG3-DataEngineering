{
 "cells": [
  {
<<<<<<< HEAD
   "cell_type": "markdown",
   "id": "307536f7-ba36-4fea-9c94-143bc5ce86b5",
   "metadata": {},
   "source": [
    "# Import libraries"
   ]
  },
  {
   "cell_type": "code",
   "execution_count": 5,
=======
   "cell_type": "code",
   "execution_count": 1,
>>>>>>> sphinx
   "id": "350b684b-1d7e-408b-ace5-b60ab580dfc8",
   "metadata": {
    "tags": []
   },
   "outputs": [],
   "source": [
<<<<<<< HEAD
    "import rasterio\n",
=======
>>>>>>> sphinx
    "import os\n",
    "import sys\n",
    "module_path =os.path.abspath(os.path.join('..'))\n",
    "if module_path not in sys.path:\n",
    "    sys.path.append(module_path+\"//USG3\")\n",
    "\n",
    "if module_path not in sys.path:\n",
    "    sys.path.append(module_path+\"\\\\model\")\n",
    "\n"
   ]
  },
  {
<<<<<<< HEAD
   "cell_type": "markdown",
   "id": "c58ff8af-f125-44e7-8461-b93a45f8894f",
   "metadata": {},
   "source": [
    "# Import scripts"
   ]
  },
  {
=======
>>>>>>> sphinx
   "cell_type": "code",
   "execution_count": 2,
   "id": "ed613fe2-1dc4-488a-b737-027e219b5fed",
   "metadata": {},
   "outputs": [],
   "source": [
    "import generate\n",
    "import classification\n",
    "import elevation\n",
    "import elevation_data\n",
    "import visualize"
   ]
  },
  {
<<<<<<< HEAD
   "cell_type": "markdown",
   "id": "fbb3226d-980f-4453-9966-c1d44c3ed4f9",
   "metadata": {},
   "source": [
    "# Get Elevation data"
   ]
  },
  {
=======
>>>>>>> sphinx
   "cell_type": "code",
   "execution_count": 3,
   "id": "287c7d9b-5c52-42d1-9110-1339badbbe83",
   "metadata": {},
   "outputs": [
    {
     "name": "stdout",
     "output_type": "stream",
     "text": [
      " #### Accessing elevation function #### \n",
      "\n",
      "#### Reading Laz file ####\n",
      "##### Done ####\n",
      "#### Converting laz to las #### \n",
      " \n",
      "#### Writing las file #### \n",
      "\n",
      "#### Reading las file #### \n",
      "\n",
      "Point format:       <PointFormat(3, 0 bytes of extra dims)>\n",
      "Number of points:   1436158\n",
      "Number of vlrs:     2\n",
      "#### Converting to GeoPandas DataFrame #### \n",
      " \n",
      "#### Generating columns #### \n",
      "\n",
      "#### Finishing up on your geopandas file #### \n",
      "\n",
      "#### Done..all set #### \n",
      "\n",
      "#### Collect your file #### \n",
      "\n"
     ]
    }
   ],
   "source": [
    "geoDF,las_file=elevation_data.get_elevation('../laz/iowa.laz','test.las','test_output.csv','epsg:4326')"
   ]
  },
  {
<<<<<<< HEAD
   "cell_type": "markdown",
   "id": "c332a514-6f45-47a5-9318-27c99fa20a19",
   "metadata": {},
   "source": [
    "## Visaulize 3D plot of the data"
   ]
  },
  {
=======
>>>>>>> sphinx
   "cell_type": "code",
   "execution_count": 4,
   "id": "8eaa0e84-75c4-4925-8d76-44378af504f1",
   "metadata": {
<<<<<<< HEAD
    "collapsed": true,
    "jupyter": {
     "outputs_hidden": true
    },
=======
>>>>>>> sphinx
    "tags": []
   },
   "outputs": [
    {
     "name": "stdout",
     "output_type": "stream",
     "text": [
      "#### Accessing 3D plotting function #### \n",
      "\n",
      " #### Obtaining data files #### \n",
      "\n",
      " #### Successfull #### \n",
      "\n",
      " #### getting distance function #### \n",
      " \n",
      " #### plotting function accessed #### \n",
      "\n",
      " ##### fine tuning image, layer : 0 #### \n",
      " \n",
      " ##### fine tuning image, layer : 1 #### \n",
      " \n",
      " ##### fine tuning image, layer : 2 #### \n",
      " \n",
      " ##### fine tuning image, layer : 3 #### \n",
      " \n",
      " ##### fine tuning image, layer : 4 #### \n",
      " \n",
      " ##### fine tuning image, layer : 5 #### \n",
      " \n",
      " ##### fine tuning image, layer : 6 #### \n",
      " \n",
      " ##### fine tuning image, layer : 7 #### \n",
      " \n",
      " ##### fine tuning image, layer : 8 #### \n",
      " \n",
      " ##### fine tuning image, layer : 9 #### \n",
      " \n",
      " ##### fine tuning image, layer : 10 #### \n",
      " \n",
      " ##### fine tuning image, layer : 11 #### \n",
      " \n",
      " ##### fine tuning image, layer : 12 #### \n",
      " \n",
      " ##### fine tuning image, layer : 13 #### \n",
      " \n",
      " ##### fine tuning image, layer : 14 #### \n",
      " \n",
      " ##### fine tuning image, layer : 15 #### \n",
      " \n",
      " ##### fine tuning image, layer : 16 #### \n",
      " \n",
      " ##### fine tuning image, layer : 17 #### \n",
      " \n",
      " ##### fine tuning image, layer : 18 #### \n",
      " \n",
      " ##### fine tuning image, layer : 19 #### \n",
      " \n",
      " ##### fine tuning image, layer : 20 #### \n",
      " \n",
      " ##### fine tuning image, layer : 21 #### \n",
      " \n",
      " ##### fine tuning image, layer : 22 #### \n",
      " \n",
      " ##### fine tuning image, layer : 23 #### \n",
      " \n",
      " ##### fine tuning image, layer : 24 #### \n",
      " \n",
      " ##### fine tuning image, layer : 25 #### \n",
      " \n",
      " ##### fine tuning image, layer : 26 #### \n",
      " \n",
      " ##### fine tuning image, layer : 27 #### \n",
      " \n",
      " ##### fine tuning image, layer : 28 #### \n",
      " \n",
      " ##### fine tuning image, layer : 29 #### \n",
      " \n",
      " ##### fine tuning image, layer : 30 #### \n",
      " \n",
      " ##### fine tuning image, layer : 31 #### \n",
      " \n",
      " ##### fine tuning image, layer : 32 #### \n",
      " \n",
      " ##### fine tuning image, layer : 33 #### \n",
      " \n",
      " ##### fine tuning image, layer : 34 #### \n",
      " \n",
      " ##### fine tuning image, layer : 35 #### \n",
      " \n",
      " ##### fine tuning image, layer : 36 #### \n",
      " \n",
      " ##### fine tuning image, layer : 37 #### \n",
      " \n",
      " ##### fine tuning image, layer : 38 #### \n",
      " \n",
      " ##### fine tuning image, layer : 39 #### \n",
      " \n",
      " ##### fine tuning image, layer : 40 #### \n",
      " \n",
      " ##### fine tuning image, layer : 41 #### \n",
      " \n",
      " ##### fine tuning image, layer : 42 #### \n",
      " \n",
      " ##### fine tuning image, layer : 43 #### \n",
      " \n",
      " ##### fine tuning image, layer : 44 #### \n",
      " \n",
      " ##### fine tuning image, layer : 45 #### \n",
      " \n",
      " ##### fine tuning image, layer : 46 #### \n",
      " \n",
      " ##### fine tuning image, layer : 47 #### \n",
      " \n",
      " ##### fine tuning image, layer : 48 #### \n",
      " \n",
      " ##### fine tuning image, layer : 49 #### \n",
      " \n",
      " ##### fine tuning image, layer : 50 #### \n",
      " \n",
      " ##### fine tuning image, layer : 51 #### \n",
      " \n",
      " ##### fine tuning image, layer : 52 #### \n",
      " \n",
      " ##### fine tuning image, layer : 53 #### \n",
      " \n",
      " ##### fine tuning image, layer : 54 #### \n",
      " \n",
      " ##### fine tuning image, layer : 55 #### \n",
      " \n",
      " ##### fine tuning image, layer : 56 #### \n",
      " \n",
      " ##### fine tuning image, layer : 57 #### \n",
      " \n",
      " ##### fine tuning image, layer : 58 #### \n",
      " \n",
      " ##### fine tuning image, layer : 59 #### \n",
      " \n",
      " ##### fine tuning image, layer : 60 #### \n",
      " \n",
      " ##### fine tuning image, layer : 61 #### \n",
      " \n",
      " ##### fine tuning image, layer : 62 #### \n",
      " \n",
      " ##### fine tuning image, layer : 63 #### \n",
      " \n",
      " ##### fine tuning image, layer : 64 #### \n",
      " \n",
      " ##### fine tuning image, layer : 65 #### \n",
      " \n",
      " ##### fine tuning image, layer : 66 #### \n",
      " \n",
      " ##### fine tuning image, layer : 67 #### \n",
      " \n",
      " ##### fine tuning image, layer : 68 #### \n",
      " \n",
      " ##### fine tuning image, layer : 69 #### \n",
      " \n",
      " ##### fine tuning image, layer : 70 #### \n",
      " \n",
      " ##### fine tuning image, layer : 71 #### \n",
      " \n",
      " ##### fine tuning image, layer : 72 #### \n",
      " \n",
      " ##### fine tuning image, layer : 73 #### \n",
      " \n",
      " ##### fine tuning image, layer : 74 #### \n",
      " \n",
      " ##### fine tuning image, layer : 75 #### \n",
      " \n",
      " ##### fine tuning image, layer : 76 #### \n",
      " \n",
      " ##### fine tuning image, layer : 77 #### \n",
      " \n",
      " ##### fine tuning image, layer : 78 #### \n",
      " \n",
      " ##### fine tuning image, layer : 79 #### \n",
      " \n",
      " ##### fine tuning image, layer : 80 #### \n",
      " \n",
      " ##### fine tuning image, layer : 81 #### \n",
      " \n",
      " ##### fine tuning image, layer : 82 #### \n",
      " \n",
      " ##### fine tuning image, layer : 83 #### \n",
      " \n",
      " ##### fine tuning image, layer : 84 #### \n",
      " \n",
      " ##### fine tuning image, layer : 85 #### \n",
      " \n",
      " ##### fine tuning image, layer : 86 #### \n",
      " \n",
      " ##### fine tuning image, layer : 87 #### \n",
      " \n",
      " ##### fine tuning image, layer : 88 #### \n",
      " \n",
      " ##### fine tuning image, layer : 89 #### \n",
      " \n",
      " ##### fine tuning image, layer : 90 #### \n",
      " \n",
      " ##### fine tuning image, layer : 91 #### \n",
      " \n",
      " ##### fine tuning image, layer : 92 #### \n",
      " \n",
      " ##### fine tuning image, layer : 93 #### \n",
      " \n",
      " ##### fine tuning image, layer : 94 #### \n",
      " \n",
      " ##### fine tuning image, layer : 95 #### \n",
      " \n",
      " ##### fine tuning image, layer : 96 #### \n",
      " \n",
      " ##### fine tuning image, layer : 97 #### \n",
      " \n",
      " ##### fine tuning image, layer : 98 #### \n",
      " \n",
      " ##### fine tuning image, layer : 99 #### \n",
      " \n",
      "#### Plotting 3D Image #### \n",
      " \n",
      " #### updating_layout #### \n",
      " \n"
     ]
    }
   ],
   "source": [
    "visualize.visualize_3D(las_file,'testfile', colorscale=\"Cividis\")"
   ]
  },
  {
<<<<<<< HEAD
   "cell_type": "markdown",
   "id": "e6142d51-9057-48a4-a04f-77e70e32ef63",
   "metadata": {
    "tags": []
   },
   "source": [
    "## Visualize Topographic Water Index"
   ]
  },
  {
   "cell_type": "code",
   "execution_count": 7,
   "id": "b2916904-ff12-4d69-8094-f1743f78f525",
   "metadata": {},
   "outputs": [],
   "source": [
    "twi=rasterio.open('../tif/twi.tiff')"
   ]
  },
  {
   "cell_type": "code",
   "execution_count": 19,
   "id": "2e16990a-75ba-451f-b80f-844cd43f13d6",
   "metadata": {},
   "outputs": [],
   "source": [
    "with rasterio.open('../tif/twi.tiff') as dem_src:\n",
    "    twi=dem_src.read(1)"
   ]
  },
  {
   "cell_type": "code",
   "execution_count": 14,
   "id": "40e199d4-c6ad-4b02-b6b8-b5ac96f22dda",
   "metadata": {},
   "outputs": [],
   "source": [
    "import numpy as np"
   ]
  },
  {
   "cell_type": "code",
   "execution_count": 23,
   "id": "529f40d5-a4cb-46c0-bdb8-d9676bcec07e",
=======
   "cell_type": "code",
   "execution_count": 6,
   "id": "3545653e-afa6-4362-b824-41e0e9d72874",
>>>>>>> sphinx
   "metadata": {},
   "outputs": [
    {
     "data": {
<<<<<<< HEAD
      "image/png": "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\n",
      "text/plain": [
       "<Figure size 432x288 with 1 Axes>"
      ]
     },
     "metadata": {
      "needs_background": "light"
     },
     "output_type": "display_data"
    },
    {
     "data": {
      "text/plain": [
       "<AxesSubplot:>"
      ]
     },
     "execution_count": 23,
=======
      "text/html": [
       "<div>\n",
       "<style scoped>\n",
       "    .dataframe tbody tr th:only-of-type {\n",
       "        vertical-align: middle;\n",
       "    }\n",
       "\n",
       "    .dataframe tbody tr th {\n",
       "        vertical-align: top;\n",
       "    }\n",
       "\n",
       "    .dataframe thead th {\n",
       "        text-align: right;\n",
       "    }\n",
       "</style>\n",
       "<table border=\"1\" class=\"dataframe\">\n",
       "  <thead>\n",
       "    <tr style=\"text-align: right;\">\n",
       "      <th></th>\n",
       "      <th>X</th>\n",
       "      <th>Y</th>\n",
       "      <th>Z</th>\n",
       "      <th>intensity</th>\n",
       "      <th>classification</th>\n",
       "      <th>scan_angle</th>\n",
       "    </tr>\n",
       "  </thead>\n",
       "  <tbody>\n",
       "    <tr>\n",
       "      <th>0</th>\n",
       "      <td>-10423327.04</td>\n",
       "      <td>5165424.45</td>\n",
       "      <td>272.51</td>\n",
       "      <td>147.0</td>\n",
       "      <td>2.0</td>\n",
       "      <td>1.0</td>\n",
       "    </tr>\n",
       "    <tr>\n",
       "      <th>1</th>\n",
       "      <td>-10423331.98</td>\n",
       "      <td>5165424.45</td>\n",
       "      <td>272.44</td>\n",
       "      <td>170.0</td>\n",
       "      <td>2.0</td>\n",
       "      <td>1.0</td>\n",
       "    </tr>\n",
       "    <tr>\n",
       "      <th>2</th>\n",
       "      <td>-10423338.73</td>\n",
       "      <td>5165424.50</td>\n",
       "      <td>272.36</td>\n",
       "      <td>136.0</td>\n",
       "      <td>2.0</td>\n",
       "      <td>1.0</td>\n",
       "    </tr>\n",
       "    <tr>\n",
       "      <th>3</th>\n",
       "      <td>-10423336.27</td>\n",
       "      <td>5165424.97</td>\n",
       "      <td>272.39</td>\n",
       "      <td>146.0</td>\n",
       "      <td>2.0</td>\n",
       "      <td>1.0</td>\n",
       "    </tr>\n",
       "    <tr>\n",
       "      <th>4</th>\n",
       "      <td>-10423328.95</td>\n",
       "      <td>5165426.42</td>\n",
       "      <td>272.48</td>\n",
       "      <td>99.0</td>\n",
       "      <td>2.0</td>\n",
       "      <td>1.0</td>\n",
       "    </tr>\n",
       "    <tr>\n",
       "      <th>...</th>\n",
       "      <td>...</td>\n",
       "      <td>...</td>\n",
       "      <td>...</td>\n",
       "      <td>...</td>\n",
       "      <td>...</td>\n",
       "      <td>...</td>\n",
       "    </tr>\n",
       "    <tr>\n",
       "      <th>1436153</th>\n",
       "      <td>-10424341.58</td>\n",
       "      <td>5164498.82</td>\n",
       "      <td>285.15</td>\n",
       "      <td>36.0</td>\n",
       "      <td>2.0</td>\n",
       "      <td>-9.0</td>\n",
       "    </tr>\n",
       "    <tr>\n",
       "      <th>1436154</th>\n",
       "      <td>-10424313.93</td>\n",
       "      <td>5164494.79</td>\n",
       "      <td>283.54</td>\n",
       "      <td>9.0</td>\n",
       "      <td>2.0</td>\n",
       "      <td>-10.0</td>\n",
       "    </tr>\n",
       "    <tr>\n",
       "      <th>1436155</th>\n",
       "      <td>-10424368.48</td>\n",
       "      <td>5164499.68</td>\n",
       "      <td>285.53</td>\n",
       "      <td>89.0</td>\n",
       "      <td>2.0</td>\n",
       "      <td>-8.0</td>\n",
       "    </tr>\n",
       "    <tr>\n",
       "      <th>1436156</th>\n",
       "      <td>-10424375.46</td>\n",
       "      <td>5164499.07</td>\n",
       "      <td>285.40</td>\n",
       "      <td>71.0</td>\n",
       "      <td>2.0</td>\n",
       "      <td>-8.0</td>\n",
       "    </tr>\n",
       "    <tr>\n",
       "      <th>1436157</th>\n",
       "      <td>-10424380.77</td>\n",
       "      <td>5164498.99</td>\n",
       "      <td>285.14</td>\n",
       "      <td>103.0</td>\n",
       "      <td>2.0</td>\n",
       "      <td>-8.0</td>\n",
       "    </tr>\n",
       "  </tbody>\n",
       "</table>\n",
       "<p>1436158 rows × 6 columns</p>\n",
       "</div>"
      ],
      "text/plain": [
       "                   X           Y       Z  intensity  classification  \\\n",
       "0       -10423327.04  5165424.45  272.51      147.0             2.0   \n",
       "1       -10423331.98  5165424.45  272.44      170.0             2.0   \n",
       "2       -10423338.73  5165424.50  272.36      136.0             2.0   \n",
       "3       -10423336.27  5165424.97  272.39      146.0             2.0   \n",
       "4       -10423328.95  5165426.42  272.48       99.0             2.0   \n",
       "...              ...         ...     ...        ...             ...   \n",
       "1436153 -10424341.58  5164498.82  285.15       36.0             2.0   \n",
       "1436154 -10424313.93  5164494.79  283.54        9.0             2.0   \n",
       "1436155 -10424368.48  5164499.68  285.53       89.0             2.0   \n",
       "1436156 -10424375.46  5164499.07  285.40       71.0             2.0   \n",
       "1436157 -10424380.77  5164498.99  285.14      103.0             2.0   \n",
       "\n",
       "         scan_angle  \n",
       "0               1.0  \n",
       "1               1.0  \n",
       "2               1.0  \n",
       "3               1.0  \n",
       "4               1.0  \n",
       "...             ...  \n",
       "1436153        -9.0  \n",
       "1436154       -10.0  \n",
       "1436155        -8.0  \n",
       "1436156        -8.0  \n",
       "1436157        -8.0  \n",
       "\n",
       "[1436158 rows x 6 columns]"
      ]
     },
     "execution_count": 6,
>>>>>>> sphinx
     "metadata": {},
     "output_type": "execute_result"
    }
   ],
   "source": [
<<<<<<< HEAD
    "from rasterio.plot import show\n",
    "show(twi,)"
   ]
  },
  {
   "cell_type": "code",
   "execution_count": 11,
   "id": "7669f0cc-aa22-4ef0-a8de-60dd77f75590",
   "metadata": {},
   "outputs": [],
   "source": [
    "def plot_raster(rast_data, title=''):\n",
    "    \"\"\"\n",
    "    Plots raster tif image both in log scale(+1) and original verion\n",
    "    \"\"\"\n",
    "    fig, (axlog, axorg) = plt.subplots(1, 2, figsize=(14,7))\n",
    "    im1 = axlog.imshow(np.log1p(rast_data)) # vmin=0, vmax=2.1)\n",
    "#     im2 = axorg.imshow(rast_data)\n",
    "\n",
    "    plt.title(\"{}\".format(title), fontdict = {'fontsize': 15})  \n",
    "    plt.axis('off')\n",
    "    plt.colorbar(im1, fraction=0.03)"
   ]
  },
  {
   "cell_type": "code",
   "execution_count": 21,
   "id": "6b731d2e-59a6-4670-ade2-e7aa451358e7",
   "metadata": {},
   "outputs": [
    {
     "name": "stderr",
     "output_type": "stream",
     "text": [
      "/tmp/ipykernel_15331/2199744350.py:6: RuntimeWarning:\n",
      "\n",
      "invalid value encountered in log1p\n",
      "\n"
     ]
    },
    {
     "data": {
      "image/png": "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\n",
      "text/plain": [
       "<Figure size 1008x504 with 3 Axes>"
      ]
     },
     "metadata": {
      "needs_background": "light"
     },
     "output_type": "display_data"
    }
   ],
   "source": [
    "import matplotlib.pyplot as plt\n",
    "plot_raster(twi,title=\"Topographic water Index plot\")"
=======
    "las_file"
>>>>>>> sphinx
   ]
  },
  {
   "cell_type": "code",
   "execution_count": null,
<<<<<<< HEAD
   "id": "42a9a996-ac29-42b7-97bf-00e29bc44bae",
=======
   "id": "b2916904-ff12-4d69-8094-f1743f78f525",
>>>>>>> sphinx
   "metadata": {},
   "outputs": [],
   "source": []
  }
 ],
 "metadata": {
  "kernelspec": {
   "display_name": "Python 3 (ipykernel)",
   "language": "python",
   "name": "python3"
  },
  "language_info": {
   "codemirror_mode": {
    "name": "ipython",
    "version": 3
   },
   "file_extension": ".py",
   "mimetype": "text/x-python",
   "name": "python",
   "nbconvert_exporter": "python",
   "pygments_lexer": "ipython3",
   "version": "3.9.5"
  }
 },
 "nbformat": 4,
 "nbformat_minor": 5
}
