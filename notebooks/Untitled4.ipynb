{
 "cells": [
  {
   "cell_type": "code",
   "execution_count": 13,
   "id": "73a66ea1-90e2-448c-bbc3-ee814970e10e",
   "metadata": {},
   "outputs": [
    {
     "ename": "ModuleNotFoundError",
     "evalue": "No module named 'pyDem'",
     "output_type": "error",
     "traceback": [
      "\u001b[0;31m---------------------------------------------------------------------------\u001b[0m",
      "\u001b[0;31mModuleNotFoundError\u001b[0m                       Traceback (most recent call last)",
      "\u001b[0;32m/tmp/ipykernel_32427/1019459638.py\u001b[0m in \u001b[0;36m<module>\u001b[0;34m\u001b[0m\n\u001b[0;32m----> 1\u001b[0;31m \u001b[0;32mimport\u001b[0m \u001b[0mpyDem\u001b[0m\u001b[0;34m\u001b[0m\u001b[0;34m\u001b[0m\u001b[0m\n\u001b[0m",
      "\u001b[0;31mModuleNotFoundError\u001b[0m: No module named 'pyDem'"
     ]
    }
   ],
   "source": [
    "import pyDem"
   ]
  },
  {
   "cell_type": "code",
   "execution_count": 20,
   "id": "d9fd74b6-42a1-414b-9e39-224a2d2ee85c",
   "metadata": {},
   "outputs": [
    {
     "name": "stdout",
     "output_type": "stream",
     "text": [
      "\u001b[33mWARNING: Ignoring invalid distribution -ython-dateutil (/opt/miniconda/lib/python3.9/site-packages)\u001b[0m\n",
      "\u001b[33mWARNING: Ignoring invalid distribution -heel (/opt/miniconda/lib/python3.9/site-packages)\u001b[0m\n",
      "\u001b[33mWARNING: Ignoring invalid distribution -ython-dateutil (/opt/miniconda/lib/python3.9/site-packages)\u001b[0m\n",
      "\u001b[33mWARNING: Ignoring invalid distribution -heel (/opt/miniconda/lib/python3.9/site-packages)\u001b[0m\n",
      "Collecting elevation\n",
      "  Downloading elevation-1.1.3-py3-none-any.whl (16 kB)\n",
      "Collecting fasteners\n",
      "  Downloading fasteners-0.16.3-py2.py3-none-any.whl (28 kB)\n",
      "Requirement already satisfied: click in /opt/miniconda/lib/python3.9/site-packages (from elevation) (8.0.1)\n",
      "Collecting appdirs\n",
      "  Downloading appdirs-1.4.4-py2.py3-none-any.whl (9.6 kB)\n",
      "Requirement already satisfied: six in /opt/miniconda/lib/python3.9/site-packages (from fasteners->elevation) (1.16.0)\n",
      "\u001b[33mWARNING: Ignoring invalid distribution -ython-dateutil (/opt/miniconda/lib/python3.9/site-packages)\u001b[0m\n",
      "\u001b[33mWARNING: Ignoring invalid distribution -heel (/opt/miniconda/lib/python3.9/site-packages)\u001b[0m\n",
      "Installing collected packages: fasteners, appdirs, elevation\n",
      "\u001b[33mWARNING: Ignoring invalid distribution -ython-dateutil (/opt/miniconda/lib/python3.9/site-packages)\u001b[0m\n",
      "\u001b[33mWARNING: Ignoring invalid distribution -heel (/opt/miniconda/lib/python3.9/site-packages)\u001b[0m\n",
      "\u001b[33mWARNING: Ignoring invalid distribution -ython-dateutil (/opt/miniconda/lib/python3.9/site-packages)\u001b[0m\n",
      "\u001b[33mWARNING: Ignoring invalid distribution -heel (/opt/miniconda/lib/python3.9/site-packages)\u001b[0m\n",
      "\u001b[33mWARNING: Ignoring invalid distribution -ython-dateutil (/opt/miniconda/lib/python3.9/site-packages)\u001b[0m\n",
      "\u001b[33mWARNING: Ignoring invalid distribution -heel (/opt/miniconda/lib/python3.9/site-packages)\u001b[0m\n",
      "Successfully installed appdirs-1.4.4 elevation-1.1.3 fasteners-0.16.3\n",
      "\u001b[33mWARNING: Ignoring invalid distribution -ython-dateutil (/opt/miniconda/lib/python3.9/site-packages)\u001b[0m\n",
      "\u001b[33mWARNING: Ignoring invalid distribution -heel (/opt/miniconda/lib/python3.9/site-packages)\u001b[0m\n",
      "\u001b[33mWARNING: Ignoring invalid distribution -ython-dateutil (/opt/miniconda/lib/python3.9/site-packages)\u001b[0m\n",
      "\u001b[33mWARNING: Ignoring invalid distribution -heel (/opt/miniconda/lib/python3.9/site-packages)\u001b[0m\n"
     ]
    }
   ],
   "source": [
    "\n",
    "!pip install elevation"
   ]
  },
  {
   "cell_type": "code",
   "execution_count": 22,
   "id": "0fc75d8d-629b-43e5-8de0-b8fbc86e4a7b",
   "metadata": {},
   "outputs": [
    {
     "name": "stdout",
     "output_type": "stream",
     "text": [
      "\u001b[33mWARNING: Ignoring invalid distribution -ython-dateutil (/opt/miniconda/lib/python3.9/site-packages)\u001b[0m\n",
      "\u001b[33mWARNING: Ignoring invalid distribution -heel (/opt/miniconda/lib/python3.9/site-packages)\u001b[0m\n",
      "\u001b[33mWARNING: Ignoring invalid distribution -ython-dateutil (/opt/miniconda/lib/python3.9/site-packages)\u001b[0m\n",
      "\u001b[33mWARNING: Ignoring invalid distribution -heel (/opt/miniconda/lib/python3.9/site-packages)\u001b[0m\n",
      "Collecting richdem\n",
      "  Downloading richdem-0.3.4.tar.gz (329 kB)\n",
      "\u001b[K     |████████████████████████████████| 329 kB 41.3 MB/s eta 0:00:01\n",
      "\u001b[?25hRequirement already satisfied: numpy<2,>=1.7 in /opt/miniconda/lib/python3.9/site-packages (from richdem) (1.20.3)\n",
      "Building wheels for collected packages: richdem\n",
      "  Building wheel for richdem (setup.py) ... \u001b[?25ldone\n",
      "\u001b[?25h  Created wheel for richdem: filename=richdem-0.3.4-cp39-cp39-linux_x86_64.whl size=5291556 sha256=22ae8cbfb0472d9de04b0252d60dbddc91cd22ccc0de365d0c72da0601eb58a2\n",
      "  Stored in directory: /home/blaise_papa/.cache/pip/wheels/c3/e1/43/02e9a8e971c959066d5725ecb303dc327c6a9fc8a1b9d714c1\n",
      "Successfully built richdem\n",
      "\u001b[33mWARNING: Ignoring invalid distribution -ython-dateutil (/opt/miniconda/lib/python3.9/site-packages)\u001b[0m\n",
      "\u001b[33mWARNING: Ignoring invalid distribution -heel (/opt/miniconda/lib/python3.9/site-packages)\u001b[0m\n",
      "Installing collected packages: richdem\n",
      "\u001b[33mWARNING: Ignoring invalid distribution -ython-dateutil (/opt/miniconda/lib/python3.9/site-packages)\u001b[0m\n",
      "\u001b[33mWARNING: Ignoring invalid distribution -heel (/opt/miniconda/lib/python3.9/site-packages)\u001b[0m\n",
      "Successfully installed richdem-0.3.4\n",
      "\u001b[33mWARNING: Ignoring invalid distribution -ython-dateutil (/opt/miniconda/lib/python3.9/site-packages)\u001b[0m\n",
      "\u001b[33mWARNING: Ignoring invalid distribution -heel (/opt/miniconda/lib/python3.9/site-packages)\u001b[0m\n",
      "\u001b[33mWARNING: Ignoring invalid distribution -ython-dateutil (/opt/miniconda/lib/python3.9/site-packages)\u001b[0m\n",
      "\u001b[33mWARNING: Ignoring invalid distribution -heel (/opt/miniconda/lib/python3.9/site-packages)\u001b[0m\n"
     ]
    }
   ],
   "source": [
    "!pip install richdem "
   ]
  },
  {
   "cell_type": "code",
   "execution_count": 23,
   "id": "c3346094-e7b5-4b67-b2f7-aa27fc404731",
   "metadata": {},
   "outputs": [],
   "source": [
    "import os\n",
    "import numpy as np\n",
    "import matplotlib\n",
    "import matplotlib.pyplot as plt\n",
    "import elevation\n",
    "import richdem as rd"
   ]
  },
  {
   "cell_type": "code",
   "execution_count": 33,
   "id": "0f3d98a6-bab9-4f63-8535-e582c5023a1f",
   "metadata": {},
   "outputs": [],
   "source": [
    "matplotlib.rcParams['figure.figsize'] = (10, 10)"
   ]
  },
  {
   "cell_type": "code",
   "execution_count": 28,
   "id": "1a8d728f-ad63-4801-bbe3-f1af8ea39581",
   "metadata": {},
   "outputs": [
    {
     "name": "stdout",
     "output_type": "stream",
     "text": [
      "make: Entering directory `/home/blaise_papa/.cache/elevation/SRTM1'\n",
      "make: Nothing to be done for `download'.\n",
      "make: Leaving directory `/home/blaise_papa/.cache/elevation/SRTM1'\n",
      "make: Entering directory `/home/blaise_papa/.cache/elevation/SRTM1'\n",
      "make: Nothing to be done for `all'.\n",
      "make: Leaving directory `/home/blaise_papa/.cache/elevation/SRTM1'\n",
      "make: Entering directory `/home/blaise_papa/.cache/elevation/SRTM1'\n",
      "cp SRTM1.vrt SRTM1.dff7d0658b0a416b8cd8a6d14660d194.vrt\n",
      "make: Leaving directory `/home/blaise_papa/.cache/elevation/SRTM1'\n",
      "make: Entering directory `/home/blaise_papa/.cache/elevation/SRTM1'\n",
      "gdal_translate -q -co TILED=YES -co COMPRESS=DEFLATE -co ZLEVEL=9 -co PREDICTOR=2 -projwin -93.756155 41.921429 -93.747334 41.918015 SRTM1.dff7d0658b0a416b8cd8a6d14660d194.vrt /mnt/10ac-batch-4/all-notebooks/blaise_papa/USG3-DataEngineering/notebooks/../tif/iowa2.tif\n",
      "rm -f SRTM1.dff7d0658b0a416b8cd8a6d14660d194.vrt\n",
      "make: Leaving directory `/home/blaise_papa/.cache/elevation/SRTM1'\n"
     ]
    }
   ],
   "source": [
    "dem_path=os.path.join(os.getcwd(),'../tif/iowa2.tif')\n",
    "elevation.clip(bounds=(-93.756155, 41.918015, -93.747334, 41.921429),output=dem_path)"
   ]
  },
  {
   "cell_type": "code",
   "execution_count": 29,
   "id": "70677c29-24eb-46ac-8048-a6677707528d",
   "metadata": {},
   "outputs": [],
   "source": [
    "shasta_dem = rd.LoadGDAL(dem_path)"
   ]
  },
  {
   "cell_type": "code",
   "execution_count": 34,
   "id": "c33ff859-cc2c-4f80-baaa-bb12ca14c21f",
   "metadata": {},
   "outputs": [
    {
     "data": {
      "image/png": "[encoded data removed]",
      "text/plain": [
       "<Figure size 720x720 with 2 Axes>"
      ]
     },
     "metadata": {
      "needs_background": "light"
     },
     "output_type": "display_data"
    }
   ],
   "source": [
    "plt.imshow(shasta_dem, interpolation='none')\n",
    "plt.colorbar()\n",
    "plt.show()"
   ]
  },
  {
   "cell_type": "code",
   "execution_count": 31,
   "id": "f7ff6868-0266-43cd-9ca5-9221632bc4c2",
   "metadata": {},
   "outputs": [
    {
     "name": "stderr",
     "output_type": "stream",
     "text": [
      "\n",
      "A Slope calculation (rise/run)\u001b[39m\n",
      "C Horn, B.K.P., 1981. Hill shading and the reflectance map. Proceedings of the IEEE 69, 14–47. doi:10.1109/PROC.1981.11918\u001b[39m\n",
      "\n",
      "\u001b[2Kt Wall-time = 0.000125784\u001b[39m================     ] (91% - 0.0s - 1 threads)\n"
     ]
    },
    {
     "data": {
      "image/png": "[encoded data removed]",
      "text/plain": [
       "<Figure size 576x396 with 2 Axes>"
      ]
     },
     "metadata": {
      "needs_background": "light"
     },
     "output_type": "display_data"
    }
   ],
   "source": [
    "slope = rd.TerrainAttribute(shasta_dem, attrib='slope_riserun')\n",
    "rd.rdShow(slope, axes=False, cmap='magma', figsize=(8, 5.5))\n",
    "plt.show()"
   ]
  },
  {
   "cell_type": "code",
   "execution_count": 32,
   "id": "bf5ee561-5200-48ae-892c-972f8758114d",
   "metadata": {},
   "outputs": [
    {
     "name": "stderr",
     "output_type": "stream",
     "text": [
      "\n",
      "A Aspect attribute calculation\u001b[39m\n",
      "C Horn, B.K.P., 1981. Hill shading and the reflectance map. Proceedings of the IEEE 69, 14–47. doi:10.1109/PROC.1981.11918\u001b[39m\n",
      "\n",
      "\u001b[2Kt Wall-time = 0.00016439\u001b[39m=================     ] (91% - 0.0s - 1 threads)\n"
     ]
    },
    {
     "data": {
      "image/png": "[encoded data removed]",
      "text/plain": [
       "<Figure size 576x396 with 2 Axes>"
      ]
     },
     "metadata": {
      "needs_background": "light"
     },
     "output_type": "display_data"
    }
   ],
   "source": [
    "aspect = rd.TerrainAttribute(shasta_dem, attrib='aspect')\n",
    "rd.rdShow(aspect, axes=False, cmap='jet', figsize=(8, 5.5))\n",
    "plt.show()"
   ]
  },
  {
   "cell_type": "code",
   "execution_count": 36,
   "id": "16d0171b-d92c-44e4-978d-23ad7e2a0b26",
   "metadata": {},
   "outputs": [
    {
     "ename": "RuntimeError",
     "evalue": "Too many tiles: 4004001. Please consult the providers' websites for how to bulk download tiles.",
     "output_type": "error",
     "traceback": [
      "\u001b[0;31m---------------------------------------------------------------------------\u001b[0m",
      "\u001b[0;31mRuntimeError\u001b[0m                              Traceback (most recent call last)",
      "\u001b[0;32m/tmp/ipykernel_32427/3828077764.py\u001b[0m in \u001b[0;36m<module>\u001b[0;34m\u001b[0m\n\u001b[1;32m      1\u001b[0m \u001b[0;31m# bounds=(-10425171.940, 5164494.710,-10423171.940, 5166494.710)\u001b[0m\u001b[0;34m\u001b[0m\u001b[0;34m\u001b[0m\u001b[0;34m\u001b[0m\u001b[0m\n\u001b[1;32m      2\u001b[0m \u001b[0mdem_path\u001b[0m\u001b[0;34m=\u001b[0m\u001b[0mos\u001b[0m\u001b[0;34m.\u001b[0m\u001b[0mpath\u001b[0m\u001b[0;34m.\u001b[0m\u001b[0mjoin\u001b[0m\u001b[0;34m(\u001b[0m\u001b[0mos\u001b[0m\u001b[0;34m.\u001b[0m\u001b[0mgetcwd\u001b[0m\u001b[0;34m(\u001b[0m\u001b[0;34m)\u001b[0m\u001b[0;34m,\u001b[0m\u001b[0;34m'../tif/iowa3.tif'\u001b[0m\u001b[0;34m)\u001b[0m\u001b[0;34m\u001b[0m\u001b[0;34m\u001b[0m\u001b[0m\n\u001b[0;32m----> 3\u001b[0;31m \u001b[0melevation\u001b[0m\u001b[0;34m.\u001b[0m\u001b[0mclip\u001b[0m\u001b[0;34m(\u001b[0m\u001b[0mbounds\u001b[0m\u001b[0;34m=\u001b[0m\u001b[0;34m(\u001b[0m\u001b[0;34m-\u001b[0m\u001b[0;36m0425171.940\u001b[0m\u001b[0;34m,\u001b[0m \u001b[0;36m5164494.710\u001b[0m\u001b[0;34m,\u001b[0m\u001b[0;34m-\u001b[0m\u001b[0;36m0423171.940\u001b[0m\u001b[0;34m,\u001b[0m \u001b[0;36m5166494.710\u001b[0m\u001b[0;34m)\u001b[0m\u001b[0;34m,\u001b[0m\u001b[0moutput\u001b[0m\u001b[0;34m=\u001b[0m\u001b[0mdem_path\u001b[0m\u001b[0;34m)\u001b[0m\u001b[0;34m\u001b[0m\u001b[0;34m\u001b[0m\u001b[0m\n\u001b[0m",
      "\u001b[0;32m/opt/miniconda/lib/python3.9/site-packages/elevation/datasource.py\u001b[0m in \u001b[0;36mclip\u001b[0;34m(bounds, output, margin, **kwargs)\u001b[0m\n\u001b[1;32m    214\u001b[0m     \"\"\"\n\u001b[1;32m    215\u001b[0m     \u001b[0mbounds\u001b[0m \u001b[0;34m=\u001b[0m \u001b[0mbuild_bounds\u001b[0m\u001b[0;34m(\u001b[0m\u001b[0mbounds\u001b[0m\u001b[0;34m,\u001b[0m \u001b[0mmargin\u001b[0m\u001b[0;34m=\u001b[0m\u001b[0mmargin\u001b[0m\u001b[0;34m)\u001b[0m\u001b[0;34m\u001b[0m\u001b[0;34m\u001b[0m\u001b[0m\n\u001b[0;32m--> 216\u001b[0;31m     \u001b[0mdatasource_root\u001b[0m \u001b[0;34m=\u001b[0m \u001b[0mseed\u001b[0m\u001b[0;34m(\u001b[0m\u001b[0mbounds\u001b[0m\u001b[0;34m=\u001b[0m\u001b[0mbounds\u001b[0m\u001b[0;34m,\u001b[0m \u001b[0;34m**\u001b[0m\u001b[0mkwargs\u001b[0m\u001b[0;34m)\u001b[0m\u001b[0;34m\u001b[0m\u001b[0;34m\u001b[0m\u001b[0m\n\u001b[0m\u001b[1;32m    217\u001b[0m     \u001b[0mdo_clip\u001b[0m\u001b[0;34m(\u001b[0m\u001b[0mdatasource_root\u001b[0m\u001b[0;34m,\u001b[0m \u001b[0mbounds\u001b[0m\u001b[0;34m,\u001b[0m \u001b[0moutput\u001b[0m\u001b[0;34m,\u001b[0m \u001b[0;34m**\u001b[0m\u001b[0mkwargs\u001b[0m\u001b[0;34m)\u001b[0m\u001b[0;34m\u001b[0m\u001b[0;34m\u001b[0m\u001b[0m\n\u001b[1;32m    218\u001b[0m \u001b[0;34m\u001b[0m\u001b[0m\n",
      "\u001b[0;32m/opt/miniconda/lib/python3.9/site-packages/elevation/datasource.py\u001b[0m in \u001b[0;36mseed\u001b[0;34m(cache_dir, product, bounds, max_download_tiles, **kwargs)\u001b[0m\n\u001b[1;32m    180\u001b[0m     \u001b[0;31m# FIXME: emergency hack to enforce the no-bulk-download policy\u001b[0m\u001b[0;34m\u001b[0m\u001b[0;34m\u001b[0m\u001b[0;34m\u001b[0m\u001b[0m\n\u001b[1;32m    181\u001b[0m     \u001b[0;32mif\u001b[0m \u001b[0mlen\u001b[0m\u001b[0;34m(\u001b[0m\u001b[0mensure_tiles_names\u001b[0m\u001b[0;34m)\u001b[0m \u001b[0;34m>\u001b[0m \u001b[0mmax_download_tiles\u001b[0m\u001b[0;34m:\u001b[0m\u001b[0;34m\u001b[0m\u001b[0;34m\u001b[0m\u001b[0m\n\u001b[0;32m--> 182\u001b[0;31m         raise RuntimeError(\n\u001b[0m\u001b[1;32m    183\u001b[0m             \u001b[0;34m\"Too many tiles: %d. Please consult the providers' websites \"\u001b[0m\u001b[0;34m\u001b[0m\u001b[0;34m\u001b[0m\u001b[0m\n\u001b[1;32m    184\u001b[0m             \u001b[0;34m\"for how to bulk download tiles.\"\u001b[0m \u001b[0;34m%\u001b[0m \u001b[0mlen\u001b[0m\u001b[0;34m(\u001b[0m\u001b[0mensure_tiles_names\u001b[0m\u001b[0;34m)\u001b[0m\u001b[0;34m\u001b[0m\u001b[0;34m\u001b[0m\u001b[0m\n",
      "\u001b[0;31mRuntimeError\u001b[0m: Too many tiles: 4004001. Please consult the providers' websites for how to bulk download tiles."
     ]
    }
   ],
   "source": [
    "# bounds=(-10425171.940, 5164494.710,-10423171.940, 5166494.710)\n",
    "dem_path=os.path.join(os.getcwd(),'../tif/iowa3.tif')\n",
    "elevation.clip(bounds=(-10425171.940, 5164494.710,-10423171.940, 5166494.710),output=dem_path)"
   ]
  },
  {
   "cell_type": "code",
   "execution_count": 39,
   "id": "f9fcebfc-03ae-4570-869d-bd0142daad7c",
   "metadata": {},
   "outputs": [
    {
     "name": "stderr",
     "output_type": "stream",
     "text": [
      "\n",
      "A Slope calculation (radians)\u001b[39m\n",
      "C Horn, B.K.P., 1981. Hill shading and the reflectance map. Proceedings of the IEEE 69, 14–47. doi:10.1109/PROC.1981.11918\u001b[39m\n",
      "\n",
      "\u001b[2Kt Wall-time = 0.000130598\u001b[39m================     ] (91% - 0.0s - 1 threads)\n"
     ]
    },
    {
     "data": {
      "text/plain": [
       "rdarray([[1.5704035, 1.5704153, 1.5703605, 1.570482 , 1.5705621,\n",
       "          1.5705185, 1.5705509, 1.570482 , 1.5702994, 1.5705045,\n",
       "          1.5702994, 1.5702994, 1.5703605, 1.5700936, 0.       ,\n",
       "          0.       , 1.5700936, 1.5700936, 0.       , 0.       ,\n",
       "          0.       , 0.       , 0.       , 0.       , 0.       ,\n",
       "          0.       , 0.       , 1.5696852, 1.5702726, 1.569225 ,\n",
       "          0.       , 0.       ],\n",
       "         [1.5704882, 1.570574 , 1.570574 , 1.5706015, 1.57059  ,\n",
       "          1.5705785, 1.5706136, 1.5706015, 1.5705719, 1.57059  ,\n",
       "          1.5705785, 1.5705509, 1.5704153, 1.5700936, 0.       ,\n",
       "          0.       , 1.5700936, 1.5702726, 1.5702407, 1.5700936,\n",
       "          1.569225 , 0.       , 0.       , 0.       , 0.       ,\n",
       "          1.569225 , 1.5696852, 0.       , 1.5702726, 1.5702726,\n",
       "          1.569225 , 0.       ],\n",
       "         [1.5704035, 1.5705999, 1.5706259, 1.5706259, 1.570574 ,\n",
       "          1.5705805, 1.5706207, 1.5706207, 1.57059  , 1.570482 ,\n",
       "          1.5705045, 1.5705185, 1.570482 , 1.5703605, 1.5702407,\n",
       "          1.5700936, 1.5700107, 1.5700936, 1.5702407, 1.5702726,\n",
       "          1.5700936, 0.       , 0.       , 0.       , 1.569225 ,\n",
       "          1.5702726, 1.5702407, 1.5702994, 1.5696852, 1.5700107,\n",
       "          1.5702994, 1.5700936],\n",
       "         [1.570482 , 1.5706015, 1.5705805, 1.5705999, 1.57059  ,\n",
       "          1.570538 , 1.5705785, 1.5705951, 1.5705621, 1.5705045,\n",
       "          1.5703605, 1.569225 , 1.5702407, 1.570426 , 1.5703605,\n",
       "          1.5702726, 1.5700936, 0.       , 0.       , 1.5700936,\n",
       "          1.5702994, 1.569225 , 0.       , 0.       , 1.5700936,\n",
       "          1.5702994, 1.5696852, 1.5700936, 1.5702726, 1.5696852,\n",
       "          1.5700936, 1.5700936],\n",
       "         [1.5705185, 1.5706111, 1.5705951, 1.5706015, 1.570482 ,\n",
       "          1.570445 , 1.5704882, 1.5705185, 1.5705045, 1.5705478,\n",
       "          1.5705045, 1.5700936, 1.5696852, 0.       , 1.5696852,\n",
       "          1.5702407, 1.5702407, 0.       , 0.       , 1.569225 ,\n",
       "          1.5702726, 1.5702994, 1.5700936, 1.5696852, 1.5700936,\n",
       "          1.5700936, 1.569225 , 0.       , 1.5702407, 1.5702407,\n",
       "          0.       , 0.       ],\n",
       "         [1.5706228, 1.57064  , 1.5706259, 1.57059  , 1.570445 ,\n",
       "          1.5702726, 1.5704035, 1.5704882, 1.5704153, 1.570482 ,\n",
       "          1.570482 , 1.5702994, 1.5700107, 1.5696852, 1.569225 ,\n",
       "          1.5702407, 1.5702407, 0.       , 0.       , 0.       ,\n",
       "          1.569225 , 1.5700936, 1.5702994, 1.5702407, 1.5700936,\n",
       "          1.569225 , 1.5696852, 0.       , 1.5700936, 1.5702726,\n",
       "          1.5700936, 1.569225 ],\n",
       "         [1.5705785, 1.5706228, 1.570574 , 1.570445 , 1.570426 ,\n",
       "          1.5702407, 1.5702407, 1.570426 , 1.5702407, 1.5703605,\n",
       "          1.5704035, 1.5704882, 1.5704153, 1.5702407, 1.5702407,\n",
       "          1.5702726, 1.5700936, 1.569225 , 1.5700936, 1.5702407,\n",
       "          1.5702407, 1.5702407, 1.5703605, 1.570426 , 1.5703605,\n",
       "          1.5700936, 1.569225 , 0.       , 1.569225 , 1.5700936,\n",
       "          1.5702726, 1.5700936],\n",
       "         [1.5696852, 1.5702407, 1.5704153, 1.5704035, 1.5704882,\n",
       "          1.5704153, 1.5702994, 1.5704153, 1.5704035, 1.5704153,\n",
       "          1.570445 , 1.5704882, 1.5705045, 1.570482 , 1.5703605,\n",
       "          1.5700936, 1.569225 , 1.5696852, 1.5700936, 1.5700936,\n",
       "          1.5702407, 1.5702407, 1.5702407, 1.5702407, 1.5702726,\n",
       "          1.5700936, 1.569225 , 1.5696852, 1.569225 , 1.569225 ,\n",
       "          1.5702994, 1.5700936],\n",
       "         [1.5700936, 1.5702994, 1.5704153, 1.5702994, 1.5704153,\n",
       "          1.5705045, 1.5702994, 1.5702994, 1.5702994, 1.5700936,\n",
       "          1.5702726, 1.5702994, 1.5700936, 1.5702726, 1.5700936,\n",
       "          0.       , 0.       , 1.569225 , 1.5702726, 1.5702994,\n",
       "          1.5702407, 1.5702407, 1.5702407, 1.5702407, 1.5704035,\n",
       "          1.5704035, 1.5704153, 1.570426 , 1.570445 , 1.5705045,\n",
       "          1.5705045, 1.5702407],\n",
       "         [1.5703605, 1.5704153, 1.5704882, 1.5704153, 1.5703605,\n",
       "          1.570482 , 1.5702726, 1.5704153, 1.5704882, 1.5702994,\n",
       "          1.5702994, 1.5702726, 1.5700936, 1.5702994, 1.5702726,\n",
       "          1.5702407, 1.5702407, 1.5702407, 1.5703605, 1.570482 ,\n",
       "          1.5705185, 1.5705185, 1.5705185, 1.5705185, 1.5705045,\n",
       "          1.5704882, 1.5704882, 1.570426 , 1.570482 , 1.5705478,\n",
       "          1.570482 , 1.5702407],\n",
       "         [1.5702726, 1.5704035, 1.5704882, 1.5704882, 1.5704882,\n",
       "          1.570482 , 1.570482 , 1.5705268, 1.570538 , 1.570482 ,\n",
       "          1.5704153, 1.570445 , 1.5704035, 1.5702994, 1.5700936,\n",
       "          1.5702407, 1.5703605, 1.570482 , 1.5705185, 1.5705185,\n",
       "          1.5705185, 1.5705185, 1.5705509, 1.570574 , 1.5705185,\n",
       "          1.5704882, 1.5704882, 1.570426 , 1.570426 , 1.5704153,\n",
       "          1.5702407, 1.5702726],\n",
       "         [1.569225 , 1.5702726, 1.5703605, 1.5702407, 1.5704035,\n",
       "          1.5702726, 1.5702407, 1.5702994, 1.5703605, 1.5702407,\n",
       "          1.5700936, 1.5702994, 1.5703605, 1.5700936, 0.       ,\n",
       "          0.       , 1.5696852, 1.5702994, 1.5702407, 1.5702407,\n",
       "          1.5702407, 1.5702407, 1.5702994, 1.5705185, 1.5702994,\n",
       "          1.5702726, 1.5704153, 1.5702407, 1.5702407, 1.5700936,\n",
       "          1.5696852, 1.5696852]], dtype=float32)"
      ]
     },
     "execution_count": 39,
     "metadata": {},
     "output_type": "execute_result"
    }
   ],
   "source": [
    "sloperadians=rd.TerrainAttribute(shasta_dem,attrib='slope_radians')\n",
    "sloperadians"
   ]
  },
  {
   "cell_type": "code",
   "execution_count": 40,
   "id": "7c799d4c-9384-41a4-bdfe-305dee38f1f2",
   "metadata": {},
   "outputs": [
    {
     "data": {
      "text/plain": [
       "rdarray([[315.      , 300.96375 , 281.30994 , 278.1301  , 288.43494 ,\n",
       "          270.      , 276.34018 , 261.8699  , 333.43494 , 336.80142 ,\n",
       "          333.43494 , 333.43494 , 281.30994 , 251.56505 , 270.      ,\n",
       "          270.      , 108.43495 ,  71.56505 , 270.      , 270.      ,\n",
       "          270.      , 270.      , 270.      , 270.      , 270.      ,\n",
       "          270.      , 270.      , 270.      , 225.      , 225.      ,\n",
       "          270.      , 270.      ],\n",
       "         [326.30994 , 323.1301  , 323.1301  , 307.87497 , 291.80142 ,\n",
       "          281.30994 , 279.4623  , 285.25513 , 315.      , 338.19858 ,\n",
       "          348.69006 , 353.65982 , 329.03625 , 288.43494 , 270.      ,\n",
       "          270.      ,  71.56505 ,  45.      ,   0.      ,  18.434948,\n",
       "           45.      , 270.      , 270.      , 270.      , 270.      ,\n",
       "          315.      ,   0.      , 270.      , 225.      , 225.      ,\n",
       "          225.      , 270.      ],\n",
       "         [315.      , 315.      , 327.5288  , 327.5288  , 323.1301  ,\n",
       "          299.0546  , 288.43494 , 288.43494 , 291.80142 , 315.      ,\n",
       "          336.80142 ,   0.      ,   8.130102, 348.69006 ,   0.      ,\n",
       "           18.434948,  45.      ,  18.434948,   0.      ,  45.      ,\n",
       "           71.56505 , 270.      , 270.      , 270.      , 315.      ,\n",
       "          315.      ,   0.      ,  26.565052,   0.      , 225.      ,\n",
       "          206.56505 , 198.43495 ],\n",
       "         [278.1301  , 285.25513 , 299.0546  , 315.      , 338.19858 ,\n",
       "          324.4623  , 281.30994 , 264.80557 , 251.56505 , 246.8014  ,\n",
       "          258.69006 , 315.      ,   0.      ,   0.      ,  11.309933,\n",
       "           45.      ,  71.56505 , 270.      , 270.      ,  71.56505 ,\n",
       "           63.434948,  45.      , 270.      , 270.      , 288.43494 ,\n",
       "          296.56506 ,   0.      ,  18.434948,  45.      ,  90.      ,\n",
       "          198.43495 , 161.56505 ],\n",
       "         [270.      , 270.      , 275.19443 , 285.25513 , 315.      ,\n",
       "          341.56506 , 303.69006 , 270.      , 246.8014  , 243.43495 ,\n",
       "          246.8014  , 251.56505 , 270.      , 270.      ,  90.      ,\n",
       "           90.      ,  90.      , 270.      , 270.      ,  45.      ,\n",
       "           45.      ,  26.565052,  18.434948,   0.      , 288.43494 ,\n",
       "          251.56505 , 225.      , 270.      ,  90.      ,  90.      ,\n",
       "          270.      , 270.      ],\n",
       "         [308.65982 , 309.2894  , 302.4712  , 291.80142 , 288.43494 ,\n",
       "          315.      , 315.      , 303.69006 , 300.96375 , 278.1301  ,\n",
       "          261.8699  , 243.43495 , 225.      , 180.      , 135.      ,\n",
       "           90.      ,  90.      , 270.      , 270.      , 270.      ,\n",
       "           45.      ,  18.434948,  26.565052,   0.      , 341.56506 ,\n",
       "          315.      , 270.      , 270.      ,  71.56505 ,  45.      ,\n",
       "           18.434948,  45.      ],\n",
       "         [348.69006 , 321.34018 , 306.8699  , 288.43494 , 270.      ,\n",
       "          270.      , 270.      , 270.      , 270.      , 258.69006 ,\n",
       "          225.      , 213.69006 , 210.96376 , 180.      , 180.      ,\n",
       "          135.      , 108.43495 , 315.      , 341.56506 ,   0.      ,\n",
       "            0.      ,   0.      ,  11.309933,   0.      ,  11.309933,\n",
       "           18.434948, 315.      , 270.      ,  45.      ,  18.434948,\n",
       "           45.      ,  71.56505 ],\n",
       "         [  0.      , 270.      , 239.03624 , 225.      , 236.30994 ,\n",
       "          239.03624 , 243.43495 , 239.03624 , 225.      , 210.96376 ,\n",
       "          198.43495 , 213.69006 , 203.1986  , 188.1301  , 191.30994 ,\n",
       "          161.56505 , 135.      , 270.      , 288.43494 , 341.56506 ,\n",
       "            0.      ,   0.      ,   0.      ,   0.      ,  45.      ,\n",
       "           71.56505 , 135.      , 180.      , 225.      , 135.      ,\n",
       "          116.56505 , 108.43495 ],\n",
       "         [161.56505 , 206.56505 , 239.03624 , 243.43495 , 239.03624 ,\n",
       "          246.8014  , 243.43495 , 243.43495 , 243.43495 , 198.43495 ,\n",
       "          225.      , 243.43495 , 198.43495 , 225.      , 251.56505 ,\n",
       "          270.      , 270.      , 225.      , 225.      , 206.56505 ,\n",
       "          180.      , 180.      , 180.      , 180.      , 135.      ,\n",
       "          135.      , 149.03624 , 180.      , 198.43495 , 156.8014  ,\n",
       "          156.8014  , 180.      ],\n",
       "         [191.30994 , 210.96376 , 236.30994 , 239.03624 , 258.69006 ,\n",
       "          261.8699  , 225.      , 210.96376 , 213.69006 , 206.56505 ,\n",
       "          243.43495 , 225.      , 198.43495 , 243.43495 , 225.      ,\n",
       "          180.      , 180.      , 180.      , 191.30994 , 188.1301  ,\n",
       "          180.      , 180.      , 180.      , 180.      , 156.8014  ,\n",
       "          146.30994 , 146.30994 , 180.      , 188.1301  , 153.43495 ,\n",
       "          171.8699  , 180.      ],\n",
       "         [225.      , 225.      , 236.30994 , 236.30994 , 236.30994 ,\n",
       "          225.      , 188.1301  , 194.03624 , 215.53767 , 225.      ,\n",
       "          210.96376 , 198.43495 , 225.      , 243.43495 , 198.43495 ,\n",
       "          180.      , 168.69006 , 171.8699  , 180.      , 180.      ,\n",
       "          180.      , 180.      , 173.6598  , 180.      , 180.      ,\n",
       "          146.30994 , 146.30994 , 180.      , 180.      , 149.03624 ,\n",
       "          180.      , 225.      ],\n",
       "         [225.      , 225.      , 258.69006 , 270.      , 225.      ,\n",
       "          225.      , 180.      , 206.56505 , 258.69006 , 270.      ,\n",
       "          198.43495 , 206.56505 , 258.69006 , 288.43494 , 270.      ,\n",
       "          270.      ,  90.      , 153.43495 , 180.      , 180.      ,\n",
       "          180.      , 180.      , 153.43495 , 180.      , 206.56505 ,\n",
       "          135.      , 149.03624 , 180.      , 180.      , 161.56505 ,\n",
       "          180.      , 180.      ]], dtype=float32)"
      ]
     },
     "execution_count": 40,
     "metadata": {},
     "output_type": "execute_result"
    }
   ],
   "source": [
    "aspect"
   ]
  },
  {
   "cell_type": "code",
   "execution_count": 41,
   "id": "c0e17007-863b-41fb-8b69-78d49095c8a3",
   "metadata": {},
   "outputs": [
    {
     "ename": "ModuleNotFoundError",
     "evalue": "No module named 'pydem'",
     "output_type": "error",
     "traceback": [
      "\u001b[0;31m---------------------------------------------------------------------------\u001b[0m",
      "\u001b[0;31mModuleNotFoundError\u001b[0m                       Traceback (most recent call last)",
      "\u001b[0;32m/tmp/ipykernel_32427/2820535747.py\u001b[0m in \u001b[0;36m<module>\u001b[0;34m\u001b[0m\n\u001b[0;32m----> 1\u001b[0;31m \u001b[0;32mfrom\u001b[0m \u001b[0mpydem\u001b[0m\u001b[0;34m.\u001b[0m\u001b[0mdem_processing\u001b[0m \u001b[0;32mimport\u001b[0m \u001b[0mDEMProcessor\u001b[0m\u001b[0;34m\u001b[0m\u001b[0;34m\u001b[0m\u001b[0m\n\u001b[0m",
      "\u001b[0;31mModuleNotFoundError\u001b[0m: No module named 'pydem'"
     ]
    }
   ],
   "source": [
    "from pydem.dem_processing import DEMProcessor\n"
   ]
  },
  {
   "cell_type": "code",
   "execution_count": null,
   "id": "97083ee3-975a-4363-86ee-2dc60fcb2cc7",
   "metadata": {},
   "outputs": [],
   "source": []
  }
 ],
 "metadata": {
  "kernelspec": {
   "display_name": "Python 3 (ipykernel)",
   "language": "python",
   "name": "python3"
  },
  "language_info": {
   "codemirror_mode": {
    "name": "ipython",
    "version": 3
   },
   "file_extension": ".py",
   "mimetype": "text/x-python",
   "name": "python",
   "nbconvert_exporter": "python",
   "pygments_lexer": "ipython3",
   "version": "3.9.5"
  }
 },
 "nbformat": 4,
 "nbformat_minor": 5
}
