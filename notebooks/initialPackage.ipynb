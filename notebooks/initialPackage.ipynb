{
 "cells": [
  {
   "cell_type": "code",
   "execution_count": 2,
   "id": "9d26ae08-9768-4cba-80f9-62d125d7a210",
   "metadata": {},
   "outputs": [],
   "source": [
    "import os\n",
    "from glob import glob\n",
    "import matplotlib.pyplot as plt\n",
    "import rasterio as rio\n",
    "from rasterio.plot import plotting_extent\n",
    "import geopandas as gpd\n",
    "import earthpy as et\n",
    "import earthpy.spatial as es\n",
    "import earthpy.plot as ep\n"
   ]
  },
  {
   "cell_type": "code",
   "execution_count": 4,
   "id": "ef0a9b8d-ce13-47fa-9a64-437714392f2b",
   "metadata": {},
   "outputs": [],
   "source": [
    "landsat_bands_data_path = \"*.tif\"\n",
    "stack_band_paths = glob(landsat_bands_data_path)"
   ]
  },
  {
   "cell_type": "code",
   "execution_count": 5,
   "id": "4e0ad313-0e66-456c-af3a-a6846af1c570",
   "metadata": {},
   "outputs": [],
   "source": [
    "stack_band_paths.sort()"
   ]
  },
  {
   "cell_type": "code",
   "execution_count": 6,
   "id": "8cc878ad-4e4e-4774-9d0b-98b94c2f296d",
   "metadata": {},
   "outputs": [
    {
     "data": {
      "text/plain": [
       "['tiftestiowa.tif']"
      ]
     },
     "execution_count": 6,
     "metadata": {},
     "output_type": "execute_result"
    }
   ],
   "source": [
    "stack_band_paths"
   ]
  },
  {
   "cell_type": "code",
   "execution_count": null,
   "id": "6ed9682f-bd2b-4a07-ac3f-d68ffc5892bb",
   "metadata": {},
   "outputs": [],
   "source": []
  }
 ],
 "metadata": {
  "kernelspec": {
   "display_name": "Python 3 (ipykernel)",
   "language": "python",
   "name": "python3"
  },
  "language_info": {
   "codemirror_mode": {
    "name": "ipython",
    "version": 3
   },
   "file_extension": ".py",
   "mimetype": "text/x-python",
   "name": "python",
   "nbconvert_exporter": "python",
   "pygments_lexer": "ipython3",
   "version": "3.9.5"
  }
 },
 "nbformat": 4,
 "nbformat_minor": 5
}
