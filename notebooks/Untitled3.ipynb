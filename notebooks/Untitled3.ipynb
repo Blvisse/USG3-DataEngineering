{
 "cells": [
  {
   "cell_type": "code",
   "execution_count": 59,
   "id": "ff3f345b-4bdb-48be-aaa8-029237d0fab0",
   "metadata": {},
   "outputs": [
    {
     "name": "stdout",
     "output_type": "stream",
     "text": [
      "\u001b[33mWARNING: Ignoring invalid distribution -ython-dateutil (/opt/miniconda/lib/python3.9/site-packages)\u001b[0m\n",
      "\u001b[33mWARNING: Ignoring invalid distribution -ython-dateutil (/opt/miniconda/lib/python3.9/site-packages)\u001b[0m\n",
      "Requirement already satisfied: liblas in /opt/miniconda/lib/python3.9/site-packages (1.8.1)\n",
      "Requirement already satisfied: setuptools in /opt/miniconda/lib/python3.9/site-packages (from liblas) (52.0.0.post20210125)\n",
      "\u001b[33mWARNING: Ignoring invalid distribution -ython-dateutil (/opt/miniconda/lib/python3.9/site-packages)\u001b[0m\n",
      "\u001b[33mWARNING: Ignoring invalid distribution -ython-dateutil (/opt/miniconda/lib/python3.9/site-packages)\u001b[0m\n",
      "\u001b[33mWARNING: Ignoring invalid distribution -ython-dateutil (/opt/miniconda/lib/python3.9/site-packages)\u001b[0m\n"
     ]
    }
   ],
   "source": [
    "!pip install liblas"
   ]
  },
  {
   "cell_type": "code",
   "execution_count": 13,
   "id": "980b0e52-522f-4d55-93b0-c906b503cdfd",
   "metadata": {},
   "outputs": [
    {
     "ename": "LaspyException",
     "evalue": "No LazBackend selected, cannot decompress data",
     "output_type": "error",
     "traceback": [
      "\u001b[0;31m---------------------------------------------------------------------------\u001b[0m",
      "\u001b[0;31mLaspyException\u001b[0m                            Traceback (most recent call last)",
      "\u001b[0;32m/tmp/ipykernel_19261/988305271.py\u001b[0m in \u001b[0;36m<module>\u001b[0;34m\u001b[0m\n\u001b[1;32m      1\u001b[0m \u001b[0;32mimport\u001b[0m \u001b[0mlaspy\u001b[0m\u001b[0;34m\u001b[0m\u001b[0;34m\u001b[0m\u001b[0m\n\u001b[1;32m      2\u001b[0m \u001b[0;34m\u001b[0m\u001b[0m\n\u001b[0;32m----> 3\u001b[0;31m \u001b[0mlas\u001b[0m \u001b[0;34m=\u001b[0m \u001b[0mlaspy\u001b[0m\u001b[0;34m.\u001b[0m\u001b[0mread\u001b[0m\u001b[0;34m(\u001b[0m\u001b[0;34m'../laz/iowa.laz'\u001b[0m\u001b[0;34m)\u001b[0m\u001b[0;34m\u001b[0m\u001b[0;34m\u001b[0m\u001b[0m\n\u001b[0m\u001b[1;32m      4\u001b[0m \u001b[0;31m# with laspy.open('../laz/iowa.laz') as lidarfile:\u001b[0m\u001b[0;34m\u001b[0m\u001b[0;34m\u001b[0m\u001b[0;34m\u001b[0m\u001b[0m\n\u001b[1;32m      5\u001b[0m \u001b[0;31m# #     print(\"Points from header\", lidarfile.header.point_count)\u001b[0m\u001b[0;34m\u001b[0m\u001b[0;34m\u001b[0m\u001b[0;34m\u001b[0m\u001b[0m\n",
      "\u001b[0;32m/opt/miniconda/lib/python3.9/site-packages/laspy/lib.py\u001b[0m in \u001b[0;36mread_las\u001b[0;34m(source, closefd, laz_backend)\u001b[0m\n\u001b[1;32m    171\u001b[0m         \u001b[0mThe\u001b[0m \u001b[0mobject\u001b[0m \u001b[0myou\u001b[0m \u001b[0mcan\u001b[0m \u001b[0minteract\u001b[0m \u001b[0;32mwith\u001b[0m \u001b[0mto\u001b[0m \u001b[0mget\u001b[0m \u001b[0maccess\u001b[0m \u001b[0mto\u001b[0m \u001b[0mthe\u001b[0m \u001b[0mLAS\u001b[0m \u001b[0mpoints\u001b[0m \u001b[0;34m&\u001b[0m \u001b[0mVLRs\u001b[0m\u001b[0;34m\u001b[0m\u001b[0;34m\u001b[0m\u001b[0m\n\u001b[1;32m    172\u001b[0m     \"\"\"\n\u001b[0;32m--> 173\u001b[0;31m     \u001b[0;32mwith\u001b[0m \u001b[0mopen_las\u001b[0m\u001b[0;34m(\u001b[0m\u001b[0msource\u001b[0m\u001b[0;34m,\u001b[0m \u001b[0mclosefd\u001b[0m\u001b[0;34m=\u001b[0m\u001b[0mclosefd\u001b[0m\u001b[0;34m,\u001b[0m \u001b[0mlaz_backend\u001b[0m\u001b[0;34m=\u001b[0m\u001b[0mlaz_backend\u001b[0m\u001b[0;34m)\u001b[0m \u001b[0;32mas\u001b[0m \u001b[0mreader\u001b[0m\u001b[0;34m:\u001b[0m\u001b[0;34m\u001b[0m\u001b[0;34m\u001b[0m\u001b[0m\n\u001b[0m\u001b[1;32m    174\u001b[0m         \u001b[0;32mreturn\u001b[0m \u001b[0mreader\u001b[0m\u001b[0;34m.\u001b[0m\u001b[0mread\u001b[0m\u001b[0;34m(\u001b[0m\u001b[0;34m)\u001b[0m\u001b[0;34m\u001b[0m\u001b[0;34m\u001b[0m\u001b[0m\n\u001b[1;32m    175\u001b[0m \u001b[0;34m\u001b[0m\u001b[0m\n",
      "\u001b[0;32m/opt/miniconda/lib/python3.9/site-packages/laspy/lib.py\u001b[0m in \u001b[0;36mopen_las\u001b[0;34m(source, mode, closefd, laz_backend, header, do_compress)\u001b[0m\n\u001b[1;32m    108\u001b[0m         \u001b[0;32melse\u001b[0m\u001b[0;34m:\u001b[0m\u001b[0;34m\u001b[0m\u001b[0;34m\u001b[0m\u001b[0m\n\u001b[1;32m    109\u001b[0m             \u001b[0mstream\u001b[0m \u001b[0;34m=\u001b[0m \u001b[0msource\u001b[0m\u001b[0;34m\u001b[0m\u001b[0;34m\u001b[0m\u001b[0m\n\u001b[0;32m--> 110\u001b[0;31m         \u001b[0;32mreturn\u001b[0m \u001b[0mLasReader\u001b[0m\u001b[0;34m(\u001b[0m\u001b[0mstream\u001b[0m\u001b[0;34m,\u001b[0m \u001b[0mclosefd\u001b[0m\u001b[0;34m=\u001b[0m\u001b[0mclosefd\u001b[0m\u001b[0;34m,\u001b[0m \u001b[0mlaz_backend\u001b[0m\u001b[0;34m=\u001b[0m\u001b[0mlaz_backend\u001b[0m\u001b[0;34m)\u001b[0m\u001b[0;34m\u001b[0m\u001b[0;34m\u001b[0m\u001b[0m\n\u001b[0m\u001b[1;32m    111\u001b[0m     \u001b[0;32melif\u001b[0m \u001b[0mmode\u001b[0m \u001b[0;34m==\u001b[0m \u001b[0;34m\"w\"\u001b[0m\u001b[0;34m:\u001b[0m\u001b[0;34m\u001b[0m\u001b[0;34m\u001b[0m\u001b[0m\n\u001b[1;32m    112\u001b[0m         \u001b[0;32mif\u001b[0m \u001b[0mheader\u001b[0m \u001b[0;32mis\u001b[0m \u001b[0;32mNone\u001b[0m\u001b[0;34m:\u001b[0m\u001b[0;34m\u001b[0m\u001b[0;34m\u001b[0m\u001b[0m\n",
      "\u001b[0;32m/opt/miniconda/lib/python3.9/site-packages/laspy/lasreader.py\u001b[0m in \u001b[0;36m__init__\u001b[0;34m(self, source, closefd, laz_backend)\u001b[0m\n\u001b[1;32m     51\u001b[0m         \u001b[0;32mif\u001b[0m \u001b[0mself\u001b[0m\u001b[0;34m.\u001b[0m\u001b[0mheader\u001b[0m\u001b[0;34m.\u001b[0m\u001b[0mare_points_compressed\u001b[0m\u001b[0;34m:\u001b[0m\u001b[0;34m\u001b[0m\u001b[0;34m\u001b[0m\u001b[0m\n\u001b[1;32m     52\u001b[0m             \u001b[0;32mif\u001b[0m \u001b[0;32mnot\u001b[0m \u001b[0mlaz_backend\u001b[0m\u001b[0;34m:\u001b[0m\u001b[0;34m\u001b[0m\u001b[0;34m\u001b[0m\u001b[0m\n\u001b[0;32m---> 53\u001b[0;31m                 raise errors.LaspyException(\n\u001b[0m\u001b[1;32m     54\u001b[0m                     \u001b[0;34m\"No LazBackend selected, cannot decompress data\"\u001b[0m\u001b[0;34m\u001b[0m\u001b[0;34m\u001b[0m\u001b[0m\n\u001b[1;32m     55\u001b[0m                 )\n",
      "\u001b[0;31mLaspyException\u001b[0m: No LazBackend selected, cannot decompress data"
     ]
    }
   ],
   "source": [
    "import laspy\n",
    "\n",
    "las = laspy.read('../laz/iowa.laz')\n",
    "# with laspy.open('../laz/iowa.laz') as lidarfile:\n",
    "# #     print(\"Points from header\", lidarfile.header.point_count)\n",
    "#     lazfile=lidarfile.read()\n",
    "#     print(lazfile)\n",
    "    \n",
    "    "
   ]
  },
  {
   "cell_type": "code",
   "execution_count": 19,
   "id": "0370fdbd-70ed-4dd5-93a4-19d50bbdbcca",
   "metadata": {},
   "outputs": [
    {
     "name": "stdout",
     "output_type": "stream",
     "text": [
      "\u001b[33mWARNING: Ignoring invalid distribution -ython-dateutil (/opt/miniconda/lib/python3.9/site-packages)\u001b[0m\n",
      "\u001b[33mWARNING: Ignoring invalid distribution -ython-dateutil (/opt/miniconda/lib/python3.9/site-packages)\u001b[0m\n",
      "Requirement already satisfied: pylas[laszip,lazrs] in /opt/miniconda/lib/python3.9/site-packages (0.4.3)\n",
      "\u001b[33mWARNING: pylas 0.4.3 does not provide the extra 'laszip'\u001b[0m\n",
      "Requirement already satisfied: numpy in /opt/miniconda/lib/python3.9/site-packages (from pylas[laszip,lazrs]) (1.20.3)\n",
      "Collecting pylas[laszip,lazrs]\n",
      "  Downloading pylas-0.4.2.tar.gz (31 kB)\n",
      "\u001b[33mWARNING: pylas 0.4.2 does not provide the extra 'laszip'\u001b[0m\n",
      "Collecting lazrs>=0.1.0\n",
      "  Downloading lazrs-0.3.1-cp39-cp39-manylinux_2_24_x86_64.whl (1.2 MB)\n",
      "\u001b[K     |████████████████████████████████| 1.2 MB 27.7 MB/s eta 0:00:01\n",
      "\u001b[?25hBuilding wheels for collected packages: pylas\n",
      "  Building wheel for pylas (setup.py) ... \u001b[?25ldone\n",
      "\u001b[?25h  Created wheel for pylas: filename=pylas-0.4.2-py3-none-any.whl size=40342 sha256=49dd5af2a0a4aecc52900d7ca2126cb44848fcb1edf08aca4ac2741b24c07e7e\n",
      "  Stored in directory: /home/blaise_papa/.cache/pip/wheels/59/55/b7/2b2a5728e028d77f697151a925f5cfa65c15e8fa1a9d92abdd\n",
      "Successfully built pylas\n",
      "\u001b[33mWARNING: Ignoring invalid distribution -ython-dateutil (/opt/miniconda/lib/python3.9/site-packages)\u001b[0m\n",
      "Installing collected packages: pylas, lazrs\n",
      "  Attempting uninstall: pylas\n",
      "\u001b[33m    WARNING: Ignoring invalid distribution -ython-dateutil (/opt/miniconda/lib/python3.9/site-packages)\u001b[0m\n",
      "    Found existing installation: pylas 0.4.3\n",
      "    Uninstalling pylas-0.4.3:\n",
      "      Successfully uninstalled pylas-0.4.3\n",
      "\u001b[33mWARNING: Ignoring invalid distribution -ython-dateutil (/opt/miniconda/lib/python3.9/site-packages)\u001b[0m\n",
      "\u001b[33mWARNING: Ignoring invalid distribution -ython-dateutil (/opt/miniconda/lib/python3.9/site-packages)\u001b[0m\n",
      "Successfully installed lazrs-0.3.1 pylas-0.4.2\n",
      "\u001b[33mWARNING: Ignoring invalid distribution -ython-dateutil (/opt/miniconda/lib/python3.9/site-packages)\u001b[0m\n",
      "\u001b[33mWARNING: Ignoring invalid distribution -ython-dateutil (/opt/miniconda/lib/python3.9/site-packages)\u001b[0m\n"
     ]
    }
   ],
   "source": [
    "!pip install pylas[lazrs,laszip]"
   ]
  },
  {
   "cell_type": "code",
   "execution_count": 61,
   "id": "13eff555-4794-4e78-abb0-b032ac764a6b",
   "metadata": {},
   "outputs": [],
   "source": [
    "import pylas \n",
    "\n",
    "las=pylas.read('../laz/iowa.laz')"
   ]
  },
  {
   "cell_type": "code",
   "execution_count": 62,
   "id": "48d43e24-b8df-4d04-93e4-98841b3fe4e9",
   "metadata": {},
   "outputs": [],
   "source": [
    "las=pylas.convert(las)\n",
    "las.write('../las/iowa.las')"
   ]
  },
  {
   "cell_type": "code",
   "execution_count": 63,
   "id": "759ec117-c0e9-49cf-969e-fde0826dd2e2",
   "metadata": {},
   "outputs": [],
   "source": [
    "import laspy\n",
    "\n",
    "lasfile=laspy.read('../las/iowa.las')"
   ]
  },
  {
   "cell_type": "code",
   "execution_count": 64,
   "id": "465870cc-780e-4e7f-8cb2-f27e54388d5b",
   "metadata": {},
   "outputs": [
    {
     "data": {
      "text/plain": [
       "<ScaledArrayView([-10423180.01 -10423175.18 -10423172.82 ... -10424368.48 -10424375.46\n",
       " -10424380.77])>"
      ]
     },
     "execution_count": 64,
     "metadata": {},
     "output_type": "execute_result"
    }
   ],
   "source": [
    "lasfile.x"
   ]
  },
  {
   "cell_type": "code",
   "execution_count": 65,
   "id": "4cc9fcb9-1088-4704-80a5-1e0e9306e8ba",
   "metadata": {},
   "outputs": [
    {
     "name": "stdout",
     "output_type": "stream",
     "text": [
      "Point format:       <PointFormat(3, 0 bytes of extra dims)>\n",
      "Number of points:   1436158\n",
      "Number of vlrs:     2\n"
     ]
    }
   ],
   "source": [
    "with laspy.open('../las/iowa.las') as f:\n",
    "    print(f\"Point format:       {f.header.point_format}\")\n",
    "    print(f\"Number of points:   {f.header.point_count}\")\n",
    "    print(f\"Number of vlrs:     {len(f.header.vlrs)}\")"
   ]
  },
  {
   "cell_type": "code",
   "execution_count": 66,
   "id": "6727eeb3-4103-4fc8-bfe1-8ec51ddc5283",
   "metadata": {},
   "outputs": [
    {
     "data": {
      "text/plain": [
       "array([[-1.04231800e+07,  5.16577762e+06,  2.72700000e+02,\n",
       "         6.80000000e+01,  2.00000000e+00,  0.00000000e+00],\n",
       "       [-1.04231752e+07,  5.16577853e+06,  2.72800000e+02,\n",
       "         4.20000000e+01,  2.00000000e+00,  1.00000000e+00],\n",
       "       [-1.04231728e+07,  5.16577901e+06,  2.73100000e+02,\n",
       "         5.80000000e+01,  2.00000000e+00,  1.00000000e+00],\n",
       "       ...,\n",
       "       [-1.04243685e+07,  5.16449968e+06,  2.85530000e+02,\n",
       "         8.90000000e+01,  2.00000000e+00, -8.00000000e+00],\n",
       "       [-1.04243755e+07,  5.16449907e+06,  2.85400000e+02,\n",
       "         7.10000000e+01,  2.00000000e+00, -8.00000000e+00],\n",
       "       [-1.04243808e+07,  5.16449899e+06,  2.85140000e+02,\n",
       "         1.03000000e+02,  2.00000000e+00, -8.00000000e+00]])"
      ]
     },
     "execution_count": 66,
     "metadata": {},
     "output_type": "execute_result"
    }
   ],
   "source": [
    "import numpy as np\n",
    "lasfile_points=np.array((lasfile.x,lasfile.y,lasfile.z,lasfile.intensity,lasfile.raw_classification,lasfile.scan_angle_rank)).transpose()\n",
    "lasfile_points"
   ]
  },
  {
   "cell_type": "code",
   "execution_count": 67,
   "id": "526b1a15-d521-4b09-a68d-a27a59434d01",
   "metadata": {},
   "outputs": [
    {
     "data": {
      "text/html": [
       "<div>\n",
       "<style scoped>\n",
       "    .dataframe tbody tr th:only-of-type {\n",
       "        vertical-align: middle;\n",
       "    }\n",
       "\n",
       "    .dataframe tbody tr th {\n",
       "        vertical-align: top;\n",
       "    }\n",
       "\n",
       "    .dataframe thead th {\n",
       "        text-align: right;\n",
       "    }\n",
       "</style>\n",
       "<table border=\"1\" class=\"dataframe\">\n",
       "  <thead>\n",
       "    <tr style=\"text-align: right;\">\n",
       "      <th></th>\n",
       "      <th>lat</th>\n",
       "      <th>lon</th>\n",
       "      <th>elevation</th>\n",
       "      <th>intensity</th>\n",
       "      <th>classification</th>\n",
       "      <th>scan_angle</th>\n",
       "    </tr>\n",
       "  </thead>\n",
       "  <tbody>\n",
       "    <tr>\n",
       "      <th>0</th>\n",
       "      <td>-10423180.01</td>\n",
       "      <td>5165777.62</td>\n",
       "      <td>272.70</td>\n",
       "      <td>68.0</td>\n",
       "      <td>2.0</td>\n",
       "      <td>0.0</td>\n",
       "    </tr>\n",
       "    <tr>\n",
       "      <th>1</th>\n",
       "      <td>-10423175.18</td>\n",
       "      <td>5165778.53</td>\n",
       "      <td>272.80</td>\n",
       "      <td>42.0</td>\n",
       "      <td>2.0</td>\n",
       "      <td>1.0</td>\n",
       "    </tr>\n",
       "    <tr>\n",
       "      <th>2</th>\n",
       "      <td>-10423172.82</td>\n",
       "      <td>5165779.01</td>\n",
       "      <td>273.10</td>\n",
       "      <td>58.0</td>\n",
       "      <td>2.0</td>\n",
       "      <td>1.0</td>\n",
       "    </tr>\n",
       "    <tr>\n",
       "      <th>3</th>\n",
       "      <td>-10423177.63</td>\n",
       "      <td>5165779.27</td>\n",
       "      <td>272.70</td>\n",
       "      <td>48.0</td>\n",
       "      <td>2.0</td>\n",
       "      <td>0.0</td>\n",
       "    </tr>\n",
       "    <tr>\n",
       "      <th>4</th>\n",
       "      <td>-10423180.02</td>\n",
       "      <td>5165778.81</td>\n",
       "      <td>272.54</td>\n",
       "      <td>71.0</td>\n",
       "      <td>2.0</td>\n",
       "      <td>0.0</td>\n",
       "    </tr>\n",
       "    <tr>\n",
       "      <th>...</th>\n",
       "      <td>...</td>\n",
       "      <td>...</td>\n",
       "      <td>...</td>\n",
       "      <td>...</td>\n",
       "      <td>...</td>\n",
       "      <td>...</td>\n",
       "    </tr>\n",
       "    <tr>\n",
       "      <th>1436153</th>\n",
       "      <td>-10424341.58</td>\n",
       "      <td>5164498.82</td>\n",
       "      <td>285.15</td>\n",
       "      <td>36.0</td>\n",
       "      <td>2.0</td>\n",
       "      <td>-9.0</td>\n",
       "    </tr>\n",
       "    <tr>\n",
       "      <th>1436154</th>\n",
       "      <td>-10424313.93</td>\n",
       "      <td>5164494.79</td>\n",
       "      <td>283.54</td>\n",
       "      <td>9.0</td>\n",
       "      <td>2.0</td>\n",
       "      <td>-10.0</td>\n",
       "    </tr>\n",
       "    <tr>\n",
       "      <th>1436155</th>\n",
       "      <td>-10424368.48</td>\n",
       "      <td>5164499.68</td>\n",
       "      <td>285.53</td>\n",
       "      <td>89.0</td>\n",
       "      <td>2.0</td>\n",
       "      <td>-8.0</td>\n",
       "    </tr>\n",
       "    <tr>\n",
       "      <th>1436156</th>\n",
       "      <td>-10424375.46</td>\n",
       "      <td>5164499.07</td>\n",
       "      <td>285.40</td>\n",
       "      <td>71.0</td>\n",
       "      <td>2.0</td>\n",
       "      <td>-8.0</td>\n",
       "    </tr>\n",
       "    <tr>\n",
       "      <th>1436157</th>\n",
       "      <td>-10424380.77</td>\n",
       "      <td>5164498.99</td>\n",
       "      <td>285.14</td>\n",
       "      <td>103.0</td>\n",
       "      <td>2.0</td>\n",
       "      <td>-8.0</td>\n",
       "    </tr>\n",
       "  </tbody>\n",
       "</table>\n",
       "<p>1436158 rows × 6 columns</p>\n",
       "</div>"
      ],
      "text/plain": [
       "                 lat         lon  elevation  intensity  classification  \\\n",
       "0       -10423180.01  5165777.62     272.70       68.0             2.0   \n",
       "1       -10423175.18  5165778.53     272.80       42.0             2.0   \n",
       "2       -10423172.82  5165779.01     273.10       58.0             2.0   \n",
       "3       -10423177.63  5165779.27     272.70       48.0             2.0   \n",
       "4       -10423180.02  5165778.81     272.54       71.0             2.0   \n",
       "...              ...         ...        ...        ...             ...   \n",
       "1436153 -10424341.58  5164498.82     285.15       36.0             2.0   \n",
       "1436154 -10424313.93  5164494.79     283.54        9.0             2.0   \n",
       "1436155 -10424368.48  5164499.68     285.53       89.0             2.0   \n",
       "1436156 -10424375.46  5164499.07     285.40       71.0             2.0   \n",
       "1436157 -10424380.77  5164498.99     285.14      103.0             2.0   \n",
       "\n",
       "         scan_angle  \n",
       "0               0.0  \n",
       "1               1.0  \n",
       "2               1.0  \n",
       "3               0.0  \n",
       "4               0.0  \n",
       "...             ...  \n",
       "1436153        -9.0  \n",
       "1436154       -10.0  \n",
       "1436155        -8.0  \n",
       "1436156        -8.0  \n",
       "1436157        -8.0  \n",
       "\n",
       "[1436158 rows x 6 columns]"
      ]
     },
     "execution_count": 67,
     "metadata": {},
     "output_type": "execute_result"
    }
   ],
   "source": [
    "#convert it to a dataframe\n",
    "import pandas as pd\n",
    "\n",
    "lasfile_df=pd.DataFrame(lasfile_points)\n",
    "lasfile_df.columns=['lat','lon','elevation','intensity','classification','scan_angle']\n",
    "lasfile_df"
   ]
  },
  {
   "cell_type": "code",
   "execution_count": 68,
   "id": "ee9039aa-d4b5-4e7e-8aa4-0fb73275b647",
   "metadata": {},
   "outputs": [],
   "source": [
    "##plot the 3d render\n",
    "import numpy as np\n",
    "import plotly.offline as go_offline\n",
    "import plotly.graph_objects as go"
   ]
  },
  {
   "cell_type": "code",
   "execution_count": 69,
   "id": "cbd3e933-9be2-4506-b631-5b0dd39653ad",
   "metadata": {},
   "outputs": [],
   "source": [
    "def distance(x1,y1,x2,y2):\n",
    "    d=np.sqrt((x1-x2)**2+(y1-y2)**2)\n",
    "    return d\n",
    "\n"
   ]
  },
  {
   "cell_type": "code",
   "execution_count": 70,
   "id": "2f5b1dac-8e98-4349-b1c2-1f3e2d9afd89",
   "metadata": {},
   "outputs": [],
   "source": [
    "def idw_npoint(xz,yz,n_point,p):\n",
    "    r=10 #block radius iteration distance\n",
    "    nf=0\n",
    "    while nf<=n_point: #will stop when np reaching at least n_point\n",
    "        x_block=[]\n",
    "        y_block=[]\n",
    "        z_block=[]\n",
    "        r +=10 # add 10 unit each iteration\n",
    "        xr_min=xz-r\n",
    "        xr_max=xz+r\n",
    "        yr_min=yz-r\n",
    "        yr_max=yz+r\n",
    "        for i in range(len(x)):\n",
    "            # condition to test if a point is within the block\n",
    "            if ((x[i]>=xr_min and x[i]<=xr_max) and (y[i]>=yr_min and y[i]<=yr_max)):\n",
    "                x_block.append(x[i])\n",
    "                y_block.append(y[i])\n",
    "                z_block.append(z[i])\n",
    "        nf=len(x_block) #calculate number of point in the block\n",
    "    \n",
    "    #calculate weight based on distance and p value\n",
    "    w_list=[]\n",
    "    for j in range(len(x_block)):\n",
    "        d=distance(xz,yz,x_block[j],y_block[j])\n",
    "        if d>0:\n",
    "            w=1/(d**p)\n",
    "            w_list.append(w)\n",
    "            z0=0\n",
    "        else:\n",
    "            w_list.append(0) #if meet this condition, it means d<=0, weight is set to 0\n",
    "    \n",
    "    #check if there is 0 in weight list\n",
    "    w_check=0 in w_list\n",
    "    if w_check==True:\n",
    "        idx=w_list.index(0) # find index for weight=0\n",
    "        z_idw=z_block[idx] # set the value to the current sample value\n",
    "    else:\n",
    "        wt=np.transpose(w_list)\n",
    "        z_idw=np.dot(z_block,wt)/sum(w_list) # idw calculation using dot product\n",
    "    return z_idw"
   ]
  },
  {
   "cell_type": "code",
   "execution_count": 71,
   "id": "e6715495-96d9-4d47-b85f-088f1c5ceb7c",
   "metadata": {},
   "outputs": [],
   "source": [
    "x=lasfile_df['lat'][:3900]\n",
    "y=lasfile_df['lon'][:3900]\n",
    "z=lasfile_df['elevation'][:3900]\n",
    "\n"
   ]
  },
  {
   "cell_type": "code",
   "execution_count": 72,
   "id": "026c5bf6-fc10-4ed3-86ed-c6d979f865f6",
   "metadata": {},
   "outputs": [
    {
     "name": "stdout",
     "output_type": "stream",
     "text": [
      "Iteration 0\n",
      "Iteration 1\n",
      "Iteration 2\n",
      "Iteration 3\n",
      "Iteration 4\n",
      "Iteration 5\n",
      "Iteration 6\n",
      "Iteration 7\n",
      "Iteration 8\n",
      "Iteration 9\n",
      "Iteration 10\n",
      "Iteration 11\n",
      "Iteration 12\n",
      "Iteration 13\n",
      "Iteration 14\n",
      "Iteration 15\n",
      "Iteration 16\n",
      "Iteration 17\n",
      "Iteration 18\n",
      "Iteration 19\n",
      "Iteration 20\n",
      "Iteration 21\n",
      "Iteration 22\n",
      "Iteration 23\n",
      "Iteration 24\n",
      "Iteration 25\n",
      "Iteration 26\n",
      "Iteration 27\n",
      "Iteration 28\n",
      "Iteration 29\n",
      "Iteration 30\n",
      "Iteration 31\n",
      "Iteration 32\n",
      "Iteration 33\n",
      "Iteration 34\n",
      "Iteration 35\n",
      "Iteration 36\n",
      "Iteration 37\n",
      "Iteration 38\n",
      "Iteration 39\n",
      "Iteration 40\n",
      "Iteration 41\n",
      "Iteration 42\n",
      "Iteration 43\n",
      "Iteration 44\n",
      "Iteration 45\n",
      "Iteration 46\n",
      "Iteration 47\n",
      "Iteration 48\n",
      "Iteration 49\n",
      "Iteration 50\n",
      "Iteration 51\n",
      "Iteration 52\n",
      "Iteration 53\n",
      "Iteration 54\n",
      "Iteration 55\n",
      "Iteration 56\n",
      "Iteration 57\n",
      "Iteration 58\n",
      "Iteration 59\n",
      "Iteration 60\n",
      "Iteration 61\n",
      "Iteration 62\n",
      "Iteration 63\n",
      "Iteration 64\n",
      "Iteration 65\n",
      "Iteration 66\n",
      "Iteration 67\n",
      "Iteration 68\n",
      "Iteration 69\n",
      "Iteration 70\n",
      "Iteration 71\n",
      "Iteration 72\n",
      "Iteration 73\n",
      "Iteration 74\n",
      "Iteration 75\n",
      "Iteration 76\n",
      "Iteration 77\n",
      "Iteration 78\n",
      "Iteration 79\n",
      "Iteration 80\n",
      "Iteration 81\n",
      "Iteration 82\n",
      "Iteration 83\n",
      "Iteration 84\n",
      "Iteration 85\n",
      "Iteration 86\n",
      "Iteration 87\n",
      "Iteration 88\n",
      "Iteration 89\n",
      "Iteration 90\n",
      "Iteration 91\n",
      "Iteration 92\n",
      "Iteration 93\n",
      "Iteration 94\n",
      "Iteration 95\n",
      "Iteration 96\n",
      "Iteration 97\n",
      "Iteration 98\n",
      "Iteration 99\n"
     ]
    }
   ],
   "source": [
    "n=100 #number of interpolation point for x and y axis\n",
    "x_min=min(x)\n",
    "x_max=max(x)\n",
    "y_min=min(y)\n",
    "y_max=max(y)\n",
    "w=x_max-x_min #width\n",
    "h=y_max-y_min #length\n",
    "wn=w/n #x interval\n",
    "hn=h/n #y interval\n",
    "\n",
    "#list to store interpolation point and elevation\n",
    "y_init=y_min\n",
    "x_init=x_min\n",
    "x_idw_list=[]\n",
    "y_idw_list=[]\n",
    "z_head=[]\n",
    "for i in range(n):\n",
    "    print(\"Iteration {}\".format(i))\n",
    "    xz=x_init+wn*i\n",
    "    yz=y_init+hn*i\n",
    "    y_idw_list.append(yz)\n",
    "    x_idw_list.append(xz)\n",
    "    z_idw_list=[]\n",
    "    for j in range(n):\n",
    "        xz=x_init+wn*j\n",
    "        z_idw=idw_npoint(xz,yz,5,1.5) #min. point=5, p=1.5\n",
    "        z_idw_list.append(z_idw)\n",
    "    z_head.append(z_idw_list)"
   ]
  },
  {
   "cell_type": "code",
   "execution_count": 73,
   "id": "e9e2cc97-b3b2-46fb-a25e-bd934de6a99f",
   "metadata": {},
   "outputs": [
    {
     "data": {
      "text/plain": [
       "'../renders/iowa.html'"
      ]
     },
     "execution_count": 73,
     "metadata": {},
     "output_type": "execute_result"
    }
   ],
   "source": [
    "fig=go.Figure()\n",
    "fig.add_trace(go.Surface(z=z_head,x=x_idw_list,y=y_idw_list,colorscale=[[0, \"rgb(166,206,227)\"],\n",
    "                [0.25, \"rgb(31,120,180)\"],\n",
    "                [0.45, \"rgb(178,223,138)\"],\n",
    "                [0.65, \"rgb(51,160,44)\"],\n",
    "                [0.85, \"rgb(251,154,153)\"],\n",
    "                [1, \"rgb(227,26,28)\"]]))\n",
    "fig.update_layout(scene=dict(aspectratio=dict(x=2, y=2, z=0.5),xaxis = dict(range=[x_min,x_max],),yaxis = dict(range=[y_min,y_max])))\n",
    "go_offline.plot(fig,filename='../renders/iowa.html',validate=True, auto_open=False)"
   ]
  },
  {
   "cell_type": "code",
   "execution_count": null,
   "id": "3689beb8-8067-4507-9188-099a9982ffeb",
   "metadata": {},
   "outputs": [],
   "source": []
  }
 ],
 "metadata": {
  "kernelspec": {
   "display_name": "Python 3 (ipykernel)",
   "language": "python",
   "name": "python3"
  },
  "language_info": {
   "codemirror_mode": {
    "name": "ipython",
    "version": 3
   },
   "file_extension": ".py",
   "mimetype": "text/x-python",
   "name": "python",
   "nbconvert_exporter": "python",
   "pygments_lexer": "ipython3",
   "version": "3.9.5"
  }
 },
 "nbformat": 4,
 "nbformat_minor": 5
}
