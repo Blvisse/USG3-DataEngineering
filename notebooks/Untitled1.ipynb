{
 "cells": [
  {
   "cell_type": "code",
   "execution_count": 1,
   "id": "67448996-d59d-4ff1-ac04-4b2936e566da",
   "metadata": {},
   "outputs": [],
   "source": [
    "import os\n",
    "import matplotlib.pyplot as plt\n",
    "import geopandas as gpd\n",
    "import earthpy as et"
   ]
  },
  {
   "cell_type": "code",
   "execution_count": 2,
   "id": "97538c53-313b-4e4c-9cca-79bf74c4e701",
   "metadata": {},
   "outputs": [],
   "source": [
    "proj=gpd.read_file('../shp/combi.shp')"
   ]
  },
  {
   "cell_type": "code",
   "execution_count": 3,
   "id": "0813b8b1-d4ff-4d9f-945a-d89002b89fc1",
   "metadata": {},
   "outputs": [
    {
     "data": {
      "text/html": [
       "<div>\n",
       "<style scoped>\n",
       "    .dataframe tbody tr th:only-of-type {\n",
       "        vertical-align: middle;\n",
       "    }\n",
       "\n",
       "    .dataframe tbody tr th {\n",
       "        vertical-align: top;\n",
       "    }\n",
       "\n",
       "    .dataframe thead th {\n",
       "        text-align: right;\n",
       "    }\n",
       "</style>\n",
       "<table border=\"1\" class=\"dataframe\">\n",
       "  <thead>\n",
       "    <tr style=\"text-align: right;\">\n",
       "      <th></th>\n",
       "      <th>id</th>\n",
       "      <th>geometry</th>\n",
       "    </tr>\n",
       "  </thead>\n",
       "  <tbody>\n",
       "    <tr>\n",
       "      <th>0</th>\n",
       "      <td>1</td>\n",
       "      <td>POLYGON ((-10423170.940 5164494.710, -10425171...</td>\n",
       "    </tr>\n",
       "  </tbody>\n",
       "</table>\n",
       "</div>"
      ],
      "text/plain": [
       "   id                                           geometry\n",
       "0   1  POLYGON ((-10423170.940 5164494.710, -10425171..."
      ]
     },
     "execution_count": 3,
     "metadata": {},
     "output_type": "execute_result"
    }
   ],
   "source": [
    "proj.head()"
   ]
  },
  {
   "cell_type": "code",
   "execution_count": 6,
   "id": "e3b010a2-1278-4122-b94e-2c5297cf188a",
   "metadata": {},
   "outputs": [
    {
     "name": "stdout",
     "output_type": "stream",
     "text": [
      "   id                                           geometry\n",
      "0   1  POLYGON ((-10423170.940 5164494.710, -10425171...\n"
     ]
    }
   ],
   "source": [
    "proj=proj.set_crs(epsg=4326)\n",
    "print(proj)"
   ]
  },
  {
   "cell_type": "code",
   "execution_count": 8,
   "id": "3ecf9843-64fc-494e-84f2-57d6a76cc0c9",
   "metadata": {},
   "outputs": [],
   "source": [
    "import shapely\n",
    "from shapely.geometry import Point\n",
    "from shapely.geometry import shape \n",
    "from shapely.geometry import Polygon\n"
   ]
  },
  {
   "cell_type": "code",
   "execution_count": 45,
   "id": "834ee7cc-3027-480e-97be-fd17acf61810",
   "metadata": {},
   "outputs": [],
   "source": [
    "long=proj.iloc[0].geometry.centroid.x"
   ]
  },
  {
   "cell_type": "code",
   "execution_count": 46,
   "id": "f41356d8-2d2b-4e59-9d63-8eff495a9294",
   "metadata": {},
   "outputs": [],
   "source": [
    "lat=proj.iloc[0].geometry.centroid.y"
   ]
  },
  {
   "cell_type": "code",
   "execution_count": 14,
   "id": "986b7a77-4714-4c17-b8fb-27e228043d9a",
   "metadata": {},
   "outputs": [
    {
     "data": {
      "text/plain": [
       "array([-10425171.94,   5164494.71, -10423170.94,   5166495.71])"
      ]
     },
     "execution_count": 14,
     "metadata": {},
     "output_type": "execute_result"
    }
   ],
   "source": [
    "proj.total_bounds"
   ]
  },
  {
   "cell_type": "code",
   "execution_count": 21,
   "id": "12c25966-660c-4d59-9d27-8e3d0f2122d0",
   "metadata": {},
   "outputs": [],
   "source": [
    "h=proj['geometry'].apply(lambda x: list(x.exterior.coords))"
   ]
  },
  {
   "cell_type": "code",
   "execution_count": 22,
   "id": "a45ca95e-4d85-44c5-b500-2053a98f9914",
   "metadata": {},
   "outputs": [
    {
     "data": {
      "text/plain": [
       "0    [(-10423170.94, 5164494.71), (-10425171.94, 51...\n",
       "Name: geometry, dtype: object"
      ]
     },
     "execution_count": 22,
     "metadata": {},
     "output_type": "execute_result"
    }
   ],
   "source": [
    "h"
   ]
  },
  {
   "cell_type": "code",
   "execution_count": 23,
   "id": "5329a473-c152-47e0-a218-9c04cfa39cd2",
   "metadata": {},
   "outputs": [],
   "source": [
    "from glob import glob\n",
    "sape=glob('../shp/combi.shp')"
   ]
  },
  {
   "cell_type": "code",
   "execution_count": 25,
   "id": "dcefcdff-ddd9-4ae5-961d-8955dd156d16",
   "metadata": {},
   "outputs": [],
   "source": [
    "sape.sort()"
   ]
  },
  {
   "cell_type": "code",
   "execution_count": 27,
   "id": "91fac845-649a-43b4-8c74-03c5ebba86a8",
   "metadata": {},
   "outputs": [],
   "source": [
    "sapefiles=[]\n",
    "for i in sape:\n",
    "    usagdf=(gpd.GeoDataFrame.from_file(i))"
   ]
  },
  {
   "cell_type": "code",
   "execution_count": 29,
   "id": "cdf0ba47-b3e4-4db8-81a0-00bcdfdb975b",
   "metadata": {},
   "outputs": [
    {
     "data": {
      "text/plain": [
       "(1, 2)"
      ]
     },
     "execution_count": 29,
     "metadata": {},
     "output_type": "execute_result"
    }
   ],
   "source": [
    "usagdf.shape"
   ]
  },
  {
   "cell_type": "code",
   "execution_count": 32,
   "id": "3e408492-40c9-4c33-8f12-7b5559feb679",
   "metadata": {},
   "outputs": [
    {
     "data": {
      "text/plain": [
       "0    4004001.0\n",
       "dtype: float64"
      ]
     },
     "execution_count": 32,
     "metadata": {},
     "output_type": "execute_result"
    }
   ],
   "source": [
    "usagdf.area"
   ]
  },
  {
   "cell_type": "code",
   "execution_count": 33,
   "id": "2f71fc02-df14-4867-9d04-82617bb0a1ce",
   "metadata": {},
   "outputs": [],
   "source": [
    "import tifffile as tf\n",
    "import matplotlib.pyplot as plt\n",
    "import rasterio\n"
   ]
  },
  {
   "cell_type": "code",
   "execution_count": 50,
   "id": "fd83512b-ccb5-4610-b45c-7da80f36ce6d",
   "metadata": {},
   "outputs": [],
   "source": [
    "tfile=rasterio.open('../tif/iowaclassified.tif')"
   ]
  },
  {
   "cell_type": "code",
   "execution_count": 51,
   "id": "84361a27-7b9c-46b1-8758-f7e936e59c68",
   "metadata": {},
   "outputs": [],
   "source": [
    "row,col=tfile.index(long,lat)"
   ]
  },
  {
   "cell_type": "code",
   "execution_count": 52,
   "id": "653aedad-c430-46af-9683-16dbf34af2f9",
   "metadata": {},
   "outputs": [
    {
     "data": {
      "text/plain": [
       "1000"
      ]
     },
     "execution_count": 52,
     "metadata": {},
     "output_type": "execute_result"
    }
   ],
   "source": [
    "row"
   ]
  },
  {
   "cell_type": "code",
   "execution_count": 53,
   "id": "27d21dec-bd7d-430b-a453-cf1e57bebb90",
   "metadata": {},
   "outputs": [
    {
     "data": {
      "text/plain": [
       "1000"
      ]
     },
     "execution_count": 53,
     "metadata": {},
     "output_type": "execute_result"
    }
   ],
   "source": [
    "col"
   ]
  },
  {
   "cell_type": "code",
   "execution_count": 55,
   "id": "1f8024a4-2c24-4171-8b43-bdddd98818eb",
   "metadata": {},
   "outputs": [],
   "source": [
    "h=tfile.read(1)"
   ]
  },
  {
   "cell_type": "code",
   "execution_count": 56,
   "id": "242590d7-53db-46a6-8da7-80f00c37ec82",
   "metadata": {},
   "outputs": [
    {
     "data": {
      "text/plain": [
       "293.6809975659178"
      ]
     },
     "execution_count": 56,
     "metadata": {},
     "output_type": "execute_result"
    }
   ],
   "source": [
    "h[row,col]"
   ]
  },
  {
   "cell_type": "code",
   "execution_count": 57,
   "id": "81e592d7-82ae-463b-ad4d-f33ff48ac1e3",
   "metadata": {},
   "outputs": [
    {
     "data": {
      "text/plain": [
       "array([[280.238096  , 280.08831959, 279.96367151, ..., 275.01149812,\n",
       "        275.01025712, 275.00792566],\n",
       "       [280.22790713, 280.08208588, 279.9674635 , ..., 274.94438152,\n",
       "        274.95      , 275.02006348],\n",
       "       [280.2272736 , 280.10966415, 279.99438865, ..., 274.96635271,\n",
       "        274.95      , 275.0364463 ],\n",
       "       ...,\n",
       "       [291.38      , 291.38      , 291.38      , ..., 271.54130961,\n",
       "        271.47773415, 271.45      ],\n",
       "       [291.38      , 291.38      , 291.38      , ..., 271.57393538,\n",
       "        271.51973289, 271.50663718],\n",
       "       [291.38      , 291.38      , 291.38      , ..., 271.58478585,\n",
       "        271.55      , 271.55      ]])"
      ]
     },
     "execution_count": 57,
     "metadata": {},
     "output_type": "execute_result"
    }
   ],
   "source": [
    "h"
   ]
  },
  {
   "cell_type": "code",
   "execution_count": 58,
   "id": "c6e8ad77-296c-41cd-b611-0caa0f79f7a7",
   "metadata": {},
   "outputs": [],
   "source": [
    "import numpy as np\n",
    "from scipy.interpolate import griddata"
   ]
  },
  {
   "cell_type": "code",
   "execution_count": 62,
   "id": "53dd6f37-8b2d-42d1-b99d-1aee63b46d50",
   "metadata": {},
   "outputs": [],
   "source": [
    "lo=h[:,0]\n",
    "la=h[:,1]\n",
    "\n",
    "pts=1000"
   ]
  },
  {
   "cell_type": "code",
   "execution_count": 64,
   "id": "2f299c84-3361-4fa1-9fc8-b6b14b89b430",
   "metadata": {},
   "outputs": [
    {
     "ename": "TypeError",
     "evalue": "'numpy.float64' object cannot be interpreted as an integer",
     "output_type": "error",
     "traceback": [
      "\u001b[0;31m---------------------------------------------------------------------------\u001b[0m",
      "\u001b[0;31mTypeError\u001b[0m                                 Traceback (most recent call last)",
      "\u001b[0;32m/tmp/ipykernel_29178/3331275643.py\u001b[0m in \u001b[0;36m<module>\u001b[0;34m\u001b[0m\n\u001b[0;32m----> 1\u001b[0;31m \u001b[0;34m[\u001b[0m\u001b[0mx\u001b[0m\u001b[0;34m,\u001b[0m\u001b[0my\u001b[0m\u001b[0;34m]\u001b[0m\u001b[0;34m=\u001b[0m\u001b[0mnp\u001b[0m\u001b[0;34m.\u001b[0m\u001b[0mmeshgrid\u001b[0m\u001b[0;34m(\u001b[0m\u001b[0mnp\u001b[0m\u001b[0;34m.\u001b[0m\u001b[0mlinspace\u001b[0m\u001b[0;34m(\u001b[0m\u001b[0mnp\u001b[0m\u001b[0;34m.\u001b[0m\u001b[0mmin\u001b[0m\u001b[0;34m(\u001b[0m\u001b[0mlo\u001b[0m\u001b[0;34m)\u001b[0m\u001b[0;34m,\u001b[0m\u001b[0mnp\u001b[0m\u001b[0;34m.\u001b[0m\u001b[0mmax\u001b[0m\u001b[0;34m(\u001b[0m\u001b[0mla\u001b[0m\u001b[0;34m)\u001b[0m\u001b[0;34m,\u001b[0m\u001b[0mnp\u001b[0m\u001b[0;34m.\u001b[0m\u001b[0msqrt\u001b[0m\u001b[0;34m(\u001b[0m\u001b[0mpts\u001b[0m\u001b[0;34m)\u001b[0m\u001b[0;34m)\u001b[0m\u001b[0;34m,\u001b[0m\u001b[0mnp\u001b[0m\u001b[0;34m.\u001b[0m\u001b[0mlinspace\u001b[0m\u001b[0;34m(\u001b[0m\u001b[0mnp\u001b[0m\u001b[0;34m.\u001b[0m\u001b[0mmin\u001b[0m\u001b[0;34m(\u001b[0m\u001b[0mlo\u001b[0m\u001b[0;34m)\u001b[0m\u001b[0;34m,\u001b[0m\u001b[0mnp\u001b[0m\u001b[0;34m.\u001b[0m\u001b[0mmax\u001b[0m\u001b[0;34m(\u001b[0m\u001b[0mla\u001b[0m\u001b[0;34m)\u001b[0m\u001b[0;34m,\u001b[0m\u001b[0mnp\u001b[0m\u001b[0;34m.\u001b[0m\u001b[0msqrt\u001b[0m\u001b[0;34m(\u001b[0m\u001b[0mpts\u001b[0m\u001b[0;34m)\u001b[0m\u001b[0;34m)\u001b[0m\u001b[0;34m)\u001b[0m\u001b[0;34m;\u001b[0m\u001b[0;34m\u001b[0m\u001b[0;34m\u001b[0m\u001b[0m\n\u001b[0m\u001b[1;32m      2\u001b[0m \u001b[0mz\u001b[0m \u001b[0;34m=\u001b[0m \u001b[0mgriddata\u001b[0m\u001b[0;34m(\u001b[0m\u001b[0;34m(\u001b[0m\u001b[0mLong\u001b[0m\u001b[0;34m,\u001b[0m \u001b[0mLat\u001b[0m\u001b[0;34m)\u001b[0m\u001b[0;34m,\u001b[0m \u001b[0mElev\u001b[0m\u001b[0;34m,\u001b[0m \u001b[0;34m(\u001b[0m\u001b[0mx\u001b[0m\u001b[0;34m,\u001b[0m \u001b[0my\u001b[0m\u001b[0;34m)\u001b[0m\u001b[0;34m,\u001b[0m \u001b[0mmethod\u001b[0m\u001b[0;34m=\u001b[0m\u001b[0;34m'linear'\u001b[0m\u001b[0;34m)\u001b[0m\u001b[0;34m;\u001b[0m\u001b[0;34m\u001b[0m\u001b[0;34m\u001b[0m\u001b[0m\n\u001b[1;32m      3\u001b[0m \u001b[0mx\u001b[0m \u001b[0;34m=\u001b[0m \u001b[0mnp\u001b[0m\u001b[0;34m.\u001b[0m\u001b[0mmatrix\u001b[0m\u001b[0;34m.\u001b[0m\u001b[0mflatten\u001b[0m\u001b[0;34m(\u001b[0m\u001b[0mx\u001b[0m\u001b[0;34m)\u001b[0m\u001b[0;34m;\u001b[0m \u001b[0;31m#Gridded longitude\u001b[0m\u001b[0;34m\u001b[0m\u001b[0;34m\u001b[0m\u001b[0m\n\u001b[1;32m      4\u001b[0m \u001b[0my\u001b[0m \u001b[0;34m=\u001b[0m \u001b[0mnp\u001b[0m\u001b[0;34m.\u001b[0m\u001b[0mmatrix\u001b[0m\u001b[0;34m.\u001b[0m\u001b[0mflatten\u001b[0m\u001b[0;34m(\u001b[0m\u001b[0my\u001b[0m\u001b[0;34m)\u001b[0m\u001b[0;34m;\u001b[0m \u001b[0;31m#Gridded latitude\u001b[0m\u001b[0;34m\u001b[0m\u001b[0;34m\u001b[0m\u001b[0m\n\u001b[1;32m      5\u001b[0m \u001b[0mz\u001b[0m \u001b[0;34m=\u001b[0m \u001b[0mnp\u001b[0m\u001b[0;34m.\u001b[0m\u001b[0mmatrix\u001b[0m\u001b[0;34m.\u001b[0m\u001b[0mflatten\u001b[0m\u001b[0;34m(\u001b[0m\u001b[0mz\u001b[0m\u001b[0;34m)\u001b[0m\u001b[0;34m;\u001b[0m \u001b[0;31m#Gridded elevation\u001b[0m\u001b[0;34m\u001b[0m\u001b[0;34m\u001b[0m\u001b[0m\n",
      "\u001b[0;32m<__array_function__ internals>\u001b[0m in \u001b[0;36mlinspace\u001b[0;34m(*args, **kwargs)\u001b[0m\n",
      "\u001b[0;32m/opt/miniconda/lib/python3.9/site-packages/numpy/core/function_base.py\u001b[0m in \u001b[0;36mlinspace\u001b[0;34m(start, stop, num, endpoint, retstep, dtype, axis)\u001b[0m\n\u001b[1;32m    118\u001b[0m \u001b[0;34m\u001b[0m\u001b[0m\n\u001b[1;32m    119\u001b[0m     \"\"\"\n\u001b[0;32m--> 120\u001b[0;31m     \u001b[0mnum\u001b[0m \u001b[0;34m=\u001b[0m \u001b[0moperator\u001b[0m\u001b[0;34m.\u001b[0m\u001b[0mindex\u001b[0m\u001b[0;34m(\u001b[0m\u001b[0mnum\u001b[0m\u001b[0;34m)\u001b[0m\u001b[0;34m\u001b[0m\u001b[0;34m\u001b[0m\u001b[0m\n\u001b[0m\u001b[1;32m    121\u001b[0m     \u001b[0;32mif\u001b[0m \u001b[0mnum\u001b[0m \u001b[0;34m<\u001b[0m \u001b[0;36m0\u001b[0m\u001b[0;34m:\u001b[0m\u001b[0;34m\u001b[0m\u001b[0;34m\u001b[0m\u001b[0m\n\u001b[1;32m    122\u001b[0m         \u001b[0;32mraise\u001b[0m \u001b[0mValueError\u001b[0m\u001b[0;34m(\u001b[0m\u001b[0;34m\"Number of samples, %s, must be non-negative.\"\u001b[0m \u001b[0;34m%\u001b[0m \u001b[0mnum\u001b[0m\u001b[0;34m)\u001b[0m\u001b[0;34m\u001b[0m\u001b[0;34m\u001b[0m\u001b[0m\n",
      "\u001b[0;31mTypeError\u001b[0m: 'numpy.float64' object cannot be interpreted as an integer"
     ]
    }
   ],
   "source": [
    "[x,y]=np.meshgrid(np.linspace(np.min(lo),np.max(la),np.sqrt(pts)),np.linspace(np.min(lo),np.max(la),np.sqrt(pts)));\n",
    "z = griddata((Long, Lat), Elev, (x, y), method='linear');\n",
    "x = np.matrix.flatten(x); #Gridded longitude\n",
    "y = np.matrix.flatten(y); #Gridded latitude\n",
    "z = np.matrix.flatten(z); #Gridded elevation"
   ]
  },
  {
   "cell_type": "code",
   "execution_count": null,
   "id": "090a8af7-8ae4-410b-b246-d290071c77f8",
   "metadata": {},
   "outputs": [],
   "source": []
  }
 ],
 "metadata": {
  "kernelspec": {
   "display_name": "Python 3 (ipykernel)",
   "language": "python",
   "name": "python3"
  },
  "language_info": {
   "codemirror_mode": {
    "name": "ipython",
    "version": 3
   },
   "file_extension": ".py",
   "mimetype": "text/x-python",
   "name": "python",
   "nbconvert_exporter": "python",
   "pygments_lexer": "ipython3",
   "version": "3.9.5"
  }
 },
 "nbformat": 4,
 "nbformat_minor": 5
}
