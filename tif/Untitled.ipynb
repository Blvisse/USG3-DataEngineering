{
 "cells": [
  {
   "cell_type": "code",
   "execution_count": 1,
   "id": "4f554c67-b825-4a5e-aa17-db5537490fe1",
   "metadata": {},
   "outputs": [
    {
     "name": "stdout",
     "output_type": "stream",
     "text": [
      "\u001b[33mWARNING: Ignoring invalid distribution -ython-dateutil (/opt/miniconda/lib/python3.9/site-packages)\u001b[0m\n",
      "\u001b[33mWARNING: Ignoring invalid distribution -heel (/opt/miniconda/lib/python3.9/site-packages)\u001b[0m\n",
      "\u001b[33mWARNING: Ignoring invalid distribution -ython-dateutil (/opt/miniconda/lib/python3.9/site-packages)\u001b[0m\n",
      "\u001b[33mWARNING: Ignoring invalid distribution -heel (/opt/miniconda/lib/python3.9/site-packages)\u001b[0m\n",
      "Collecting pydem\n",
      "  Using cached pyDEM-0.1.1.zip (2.3 MB)\n",
      "\u001b[31m    ERROR: Command errored out with exit status 1:\n",
      "     command: /opt/miniconda/bin/python3.9 -c 'import io, os, sys, setuptools, tokenize; sys.argv[0] = '\"'\"'/tmp/pip-install-uwtlbm2s/pydem_eff1108202f44aa5a69750a25d4002d7/setup.py'\"'\"'; __file__='\"'\"'/tmp/pip-install-uwtlbm2s/pydem_eff1108202f44aa5a69750a25d4002d7/setup.py'\"'\"';f = getattr(tokenize, '\"'\"'open'\"'\"', open)(__file__) if os.path.exists(__file__) else io.StringIO('\"'\"'from setuptools import setup; setup()'\"'\"');code = f.read().replace('\"'\"'\\r\\n'\"'\"', '\"'\"'\\n'\"'\"');f.close();exec(compile(code, __file__, '\"'\"'exec'\"'\"'))' egg_info --egg-base /tmp/pip-pip-egg-info-u930e_mp\n",
      "         cwd: /tmp/pip-install-uwtlbm2s/pydem_eff1108202f44aa5a69750a25d4002d7/\n",
      "    Complete output (5 lines):\n",
      "    Traceback (most recent call last):\n",
      "      File \"<string>\", line 1, in <module>\n",
      "      File \"/tmp/pip-install-uwtlbm2s/pydem_eff1108202f44aa5a69750a25d4002d7/setup.py\", line 27, in <module>\n",
      "        from Cython.Build import cythonize\n",
      "    ModuleNotFoundError: No module named 'Cython'\n",
      "    ----------------------------------------\u001b[0m\n",
      "\u001b[33mWARNING: Discarding https://files.pythonhosted.org/packages/1d/bd/a9e3be8e37db1903cb97cd01e7afa6eb337bb985443b3967ff04adebe25d/pyDEM-0.1.1.zip#sha256=4a4e6de851ebd65db78ce723b5051147c1317083472cc32fc852072a97f77cf8 (from https://pypi.org/simple/pydem/). Command errored out with exit status 1: python setup.py egg_info Check the logs for full command output.\u001b[0m\n",
      "\u001b[31mERROR: Could not find a version that satisfies the requirement pydem (from versions: 0.1.1)\u001b[0m\n",
      "\u001b[31mERROR: No matching distribution found for pydem\u001b[0m\n",
      "\u001b[33mWARNING: Ignoring invalid distribution -ython-dateutil (/opt/miniconda/lib/python3.9/site-packages)\u001b[0m\n",
      "\u001b[33mWARNING: Ignoring invalid distribution -heel (/opt/miniconda/lib/python3.9/site-packages)\u001b[0m\n",
      "\u001b[33mWARNING: Ignoring invalid distribution -ython-dateutil (/opt/miniconda/lib/python3.9/site-packages)\u001b[0m\n",
      "\u001b[33mWARNING: Ignoring invalid distribution -heel (/opt/miniconda/lib/python3.9/site-packages)\u001b[0m\n"
     ]
    }
   ],
   "source": [
    "!pip install pydem"
   ]
  },
  {
   "cell_type": "code",
   "execution_count": 2,
   "id": "cefc8d83-b9e2-4235-8d1f-b07b78aef7fa",
   "metadata": {},
   "outputs": [
    {
     "name": "stdout",
     "output_type": "stream",
     "text": [
      "Python 3.9.5\n"
     ]
    }
   ],
   "source": [
    "!python --version"
   ]
  },
  {
   "cell_type": "code",
   "execution_count": 7,
   "id": "f392545e-1f5d-4a49-b167-10553081331a",
   "metadata": {},
   "outputs": [
    {
     "name": "stdout",
     "output_type": "stream",
     "text": [
      "\u001b[33mWARNING: Ignoring invalid distribution -ython-dateutil (/opt/miniconda/lib/python3.9/site-packages)\u001b[0m\n",
      "\u001b[33mWARNING: Ignoring invalid distribution -heel (/opt/miniconda/lib/python3.9/site-packages)\u001b[0m\n",
      "\u001b[33mWARNING: Ignoring invalid distribution -ython-dateutil (/opt/miniconda/lib/python3.9/site-packages)\u001b[0m\n",
      "\u001b[33mWARNING: Ignoring invalid distribution -heel (/opt/miniconda/lib/python3.9/site-packages)\u001b[0m\n",
      "Collecting whitebox\n",
      "  Downloading whitebox-1.5.2-py2.py3-none-any.whl (67 kB)\n",
      "\u001b[K     |████████████████████████████████| 67 kB 9.8 MB/s  eta 0:00:01\n",
      "\u001b[?25hRequirement already satisfied: Click>=6.0 in /opt/miniconda/lib/python3.9/site-packages (from whitebox) (8.0.1)\n",
      "\u001b[33mWARNING: Ignoring invalid distribution -ython-dateutil (/opt/miniconda/lib/python3.9/site-packages)\u001b[0m\n",
      "\u001b[33mWARNING: Ignoring invalid distribution -heel (/opt/miniconda/lib/python3.9/site-packages)\u001b[0m\n",
      "Installing collected packages: whitebox\n",
      "\u001b[33mWARNING: Ignoring invalid distribution -ython-dateutil (/opt/miniconda/lib/python3.9/site-packages)\u001b[0m\n",
      "\u001b[33mWARNING: Ignoring invalid distribution -heel (/opt/miniconda/lib/python3.9/site-packages)\u001b[0m\n",
      "Successfully installed whitebox-1.5.2\n",
      "\u001b[33mWARNING: Ignoring invalid distribution -ython-dateutil (/opt/miniconda/lib/python3.9/site-packages)\u001b[0m\n",
      "\u001b[33mWARNING: Ignoring invalid distribution -heel (/opt/miniconda/lib/python3.9/site-packages)\u001b[0m\n",
      "\u001b[33mWARNING: Ignoring invalid distribution -ython-dateutil (/opt/miniconda/lib/python3.9/site-packages)\u001b[0m\n",
      "\u001b[33mWARNING: Ignoring invalid distribution -heel (/opt/miniconda/lib/python3.9/site-packages)\u001b[0m\n"
     ]
    }
   ],
   "source": [
    "!pip install whitebox"
   ]
  },
  {
   "cell_type": "code",
   "execution_count": 16,
   "id": "c5877aa0-a079-4eee-9c46-cbb4a93984d0",
   "metadata": {},
   "outputs": [
    {
     "name": "stdout",
     "output_type": "stream",
     "text": [
      "./whitebox_tools --run=\"AverageFlowpathSlope\" --dem='../tif/iowa2.tif' --output='../tif/iowwht.tif' -v\n",
      "\n",
      "./whitebox_tools: /lib64/libm.so.6: version `GLIBC_2.27' not found (required by ./whitebox_tools)\n",
      "./whitebox_tools: /lib64/libm.so.6: version `GLIBC_2.29' not found (required by ./whitebox_tools)\n"
     ]
    },
    {
     "data": {
      "text/plain": [
       "0"
      ]
     },
     "execution_count": 16,
     "metadata": {},
     "output_type": "execute_result"
    }
   ],
   "source": [
    "from whitebox.whitebox_tools import WhiteboxTools\n",
    "\n",
    "wbt = WhiteboxTools()\n",
    "\n",
    "dem='../tif/iowa2.tif'\n",
    "output='../tif/iowwht.tif'\n",
    "wbt.average_flowpath_slope(\n",
    "    dem, \n",
    "    output, \n",
    "   \n",
    ")"
   ]
  },
  {
   "cell_type": "code",
   "execution_count": 19,
   "id": "44275c3a-ecd3-4084-9f91-2859c3fe5a7d",
   "metadata": {},
   "outputs": [
    {
     "name": "stdout",
     "output_type": "stream",
     "text": [
      "./whitebox_tools --run=\"AverageUpslopeFlowpathLength\" --dem='../tif/iowa2.tif' --output='../tif/iowwht.tif' -v\n",
      "\n",
      "./whitebox_tools: /lib64/libm.so.6: version `GLIBC_2.27' not found (required by ./whitebox_tools)\n",
      "./whitebox_tools: /lib64/libm.so.6: version `GLIBC_2.29' not found (required by ./whitebox_tools)\n"
     ]
    },
    {
     "data": {
      "text/plain": [
       "0"
      ]
     },
     "execution_count": 19,
     "metadata": {},
     "output_type": "execute_result"
    }
   ],
   "source": [
    "wbt.average_upslope_flowpath_length(\n",
    "    dem, \n",
    "    output, \n",
    "    \n",
    ")\n"
   ]
  },
  {
   "cell_type": "code",
   "execution_count": 18,
   "id": "5a2b2c89-99fe-4c8b-b907-f80205ea7373",
   "metadata": {},
   "outputs": [
    {
     "name": "stdout",
     "output_type": "stream",
     "text": [
      "\u001b[33mWARNING: Ignoring invalid distribution -ython-dateutil (/opt/miniconda/lib/python3.9/site-packages)\u001b[0m\n",
      "\u001b[33mWARNING: Ignoring invalid distribution -heel (/opt/miniconda/lib/python3.9/site-packages)\u001b[0m\n",
      "\u001b[33mWARNING: Ignoring invalid distribution -ython-dateutil (/opt/miniconda/lib/python3.9/site-packages)\u001b[0m\n",
      "\u001b[33mWARNING: Ignoring invalid distribution -heel (/opt/miniconda/lib/python3.9/site-packages)\u001b[0m\n",
      "Collecting git+https://github.com/giswqs/whitebox\n",
      "  Cloning https://github.com/giswqs/whitebox to /tmp/pip-req-build-ha8b_gd_\n",
      "  Running command git clone -q https://github.com/giswqs/whitebox /tmp/pip-req-build-ha8b_gd_\n",
      "  Resolved https://github.com/giswqs/whitebox to commit f53a471f9257d77cf46200233965b30544ebe1ad\n",
      "Requirement already satisfied: Click>=6.0 in /opt/miniconda/lib/python3.9/site-packages (from whitebox==1.5.2) (8.0.1)\n",
      "\u001b[33mWARNING: Ignoring invalid distribution -ython-dateutil (/opt/miniconda/lib/python3.9/site-packages)\u001b[0m\n",
      "\u001b[33mWARNING: Ignoring invalid distribution -heel (/opt/miniconda/lib/python3.9/site-packages)\u001b[0m\n",
      "\u001b[33mWARNING: Ignoring invalid distribution -ython-dateutil (/opt/miniconda/lib/python3.9/site-packages)\u001b[0m\n",
      "\u001b[33mWARNING: Ignoring invalid distribution -heel (/opt/miniconda/lib/python3.9/site-packages)\u001b[0m\n",
      "\u001b[33mWARNING: Ignoring invalid distribution -ython-dateutil (/opt/miniconda/lib/python3.9/site-packages)\u001b[0m\n",
      "\u001b[33mWARNING: Ignoring invalid distribution -heel (/opt/miniconda/lib/python3.9/site-packages)\u001b[0m\n"
     ]
    }
   ],
   "source": [
    "!pip install git+https://github.com/giswqs/whitebox"
   ]
  },
  {
   "cell_type": "code",
   "execution_count": null,
   "id": "a1b6acfd-fb70-484f-b410-f41317d11258",
   "metadata": {},
   "outputs": [],
   "source": []
  }
 ],
 "metadata": {
  "kernelspec": {
   "display_name": "Python [conda env:root] *",
   "language": "python",
   "name": "conda-root-py"
  },
  "language_info": {
   "codemirror_mode": {
    "name": "ipython",
    "version": 3
   },
   "file_extension": ".py",
   "mimetype": "text/x-python",
   "name": "python",
   "nbconvert_exporter": "python",
   "pygments_lexer": "ipython3",
   "version": "3.9.5"
  }
 },
 "nbformat": 4,
 "nbformat_minor": 5
}
